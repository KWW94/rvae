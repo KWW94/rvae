{
 "cells": [
  {
   "cell_type": "code",
   "execution_count": 1,
   "metadata": {},
   "outputs": [],
   "source": [
    "import os\n",
    "import json\n",
    "import time\n",
    "import torch\n",
    "import argparse\n",
    "import numpy as np\n",
    "from multiprocessing import cpu_count\n",
    "from torch.utils.data import DataLoader\n",
    "from collections import OrderedDict, defaultdict\n",
    "import torch.nn as nn\n",
    "from torch.autograd import Variable\n",
    "\n",
    "from ptb import PTB\n",
    "from utils import to_var, idx2word, expierment_name\n",
    "from model import SentenceVAE"
   ]
  },
  {
   "cell_type": "code",
   "execution_count": 2,
   "metadata": {},
   "outputs": [],
   "source": [
    "ts = time.strftime('%Y-%b-%d-%H-%M-%S', time.gmtime())"
   ]
  },
  {
   "cell_type": "code",
   "execution_count": 3,
   "metadata": {},
   "outputs": [],
   "source": [
    "save_model_path = os.path.join('won', ts)\n",
    "os.makedirs('.\\\\'+save_model_path)"
   ]
  },
  {
   "cell_type": "code",
   "execution_count": 4,
   "metadata": {},
   "outputs": [],
   "source": [
    "datasets = OrderedDict()"
   ]
  },
  {
   "cell_type": "code",
   "execution_count": 5,
   "metadata": {},
   "outputs": [],
   "source": [
    "splits = ['train', 'valid'] + (['test'] if False else [])"
   ]
  },
  {
   "cell_type": "code",
   "execution_count": 6,
   "metadata": {},
   "outputs": [
    {
     "data": {
      "text/plain": [
       "['train', 'valid']"
      ]
     },
     "execution_count": 6,
     "metadata": {},
     "output_type": "execute_result"
    }
   ],
   "source": [
    "splits"
   ]
  },
  {
   "cell_type": "code",
   "execution_count": 7,
   "metadata": {},
   "outputs": [],
   "source": [
    "for split in splits:\n",
    "    datasets[split] = PTB(\n",
    "        data_dir='data',\n",
    "        split=split,\n",
    "        create_data=False,\n",
    "        max_sequence_length=60,\n",
    "        min_occ=1\n",
    "    )"
   ]
  },
  {
   "cell_type": "code",
   "execution_count": 8,
   "metadata": {},
   "outputs": [],
   "source": [
    "vocab_size = datasets['train'].vocab_size"
   ]
  },
  {
   "cell_type": "code",
   "execution_count": 9,
   "metadata": {},
   "outputs": [],
   "source": [
    "sos_idx=datasets['train'].sos_idx"
   ]
  },
  {
   "cell_type": "code",
   "execution_count": 10,
   "metadata": {},
   "outputs": [],
   "source": [
    "eos_idx=datasets['train'].eos_idx"
   ]
  },
  {
   "cell_type": "code",
   "execution_count": 11,
   "metadata": {},
   "outputs": [],
   "source": [
    "pad_idx=datasets['train'].pad_idx"
   ]
  },
  {
   "cell_type": "code",
   "execution_count": 12,
   "metadata": {},
   "outputs": [],
   "source": [
    "max_sequence_length = 60\n",
    "embedding_size = 300\n",
    "hidden_size = 256\n",
    "word_dropout = 0.5\n",
    "latent_size = 16\n",
    "num_layers = 1\n",
    "bidirectional = True\n",
    "batch_size_fit = 32\n",
    "rnn_type = 'gru'\n",
    "learning_rate = 0.0001\n",
    "k = 0.0025\n",
    "x0 = 2500"
   ]
  },
  {
   "cell_type": "code",
   "execution_count": 13,
   "metadata": {},
   "outputs": [],
   "source": [
    "class RVAE(nn.Module):\n",
    "    def __init__(self,vocab_size, embedding_size, max_sequence_length, hidden_size, word_dropout, latent_size,\n",
    "                sos_idx, eos_idx, pad_idx, rnn_type='rnn' , num_layers=1, bidirectional=True):\n",
    "        \n",
    "        super().__init__()\n",
    "        \n",
    "        self.max_sequence_length = max_sequence_length\n",
    "        self.sos_idx = sos_idx\n",
    "        self.eos_idx = eos_idx\n",
    "        self.pad_idx = pad_idx\n",
    "        \n",
    "        self.latent_size = latent_size\n",
    "        self.rnn_type = rnn_type\n",
    "        self.bidirectional = bidirectional\n",
    "        self.num_layers = num_layers\n",
    "        self.hidden_size = hidden_size\n",
    "        \n",
    "        \n",
    "        #self.outputs2vocab = nn.Linear(hidden_size * (2 if bidirectional else 1), vocab_size)\n",
    "        self.encoder = Encoder(vocab_size = vocab_size,embedding_size = embedding_size, hidden_size = hidden_size, num_layers = num_layers, bidirectional = bidirectional,latent_size = latent_size,rnn_type = rnn_type).cuda()\n",
    "        self.decoder = Decoder(vocab_size = vocab_size,embedding_size = embedding_size, hidden_size = hidden_size, num_layers = num_layers, bidirectional = bidirectional,latent_size = latent_size,rnn_type = rnn_type).cuda()\n",
    "    \n",
    "    def forward(self,x,length):\n",
    "        \n",
    "        mu,logvar,reparam = self.encoder(Variable(x),length)\n",
    "        logp  = self.decoder(Variable(x),reparam)\n",
    "        \n",
    "        \n",
    "        return logp, mu, logvar, reparam"
   ]
  },
  {
   "cell_type": "code",
   "execution_count": 14,
   "metadata": {},
   "outputs": [],
   "source": [
    "class Encoder(nn.Module):\n",
    "    def __init__(self,vocab_size,embedding_size, hidden_size, latent_size, bidirectional=True, num_layers = 1,rnn_type='rnn'):\n",
    "        super(Encoder,self).__init__()\n",
    "        \n",
    "        self.vocab_size = vocab_size\n",
    "        self.embedding_size = embedding_size\n",
    "        self.latent_size = latent_size\n",
    "        self.rnn_type = rnn_type\n",
    "        self.bidirectional = bidirectional\n",
    "        self.num_layers = num_layers\n",
    "        self.hidden_size = hidden_size\n",
    "        \n",
    "        if self.rnn_type == 'rnn':\n",
    "            rnn = nn.RNN\n",
    "        elif self.rnn_type == 'gru':\n",
    "            rnn = nn.GRU\n",
    "        elif self.rnn_type =='lstm':\n",
    "            rnn = nn.LSTM\n",
    "        else:\n",
    "            raise ValueError()\n",
    "            \n",
    "        self.embedding = nn.Embedding(vocab_size,embedding_size)\n",
    "        self.encoder = rnn(self.embedding_size, self.hidden_size, num_layers = self.num_layers, bidirectional = self.bidirectional, batch_first = True)\n",
    "        \n",
    "        self.hidden_factor = (2 if self.bidirectional else 1) * self.num_layers\n",
    "        \n",
    "        self.hidden2mean = nn.Linear(self.hidden_size* self.hidden_factor, self.latent_size)\n",
    "        self.hidden2logv = nn.Linear(self.hidden_size* self.hidden_factor, self.latent_size)\n",
    "                        \n",
    "    \n",
    "    def reparametrize(self, mu, logvar):\n",
    "        std = logvar.mul(0.5).exp_()\n",
    "        \n",
    "        eps = torch.FloatTensor(std.size()).normal_()\n",
    "        eps = Variable(eps).cuda()\n",
    "        \n",
    "        return eps.mul(std).add_(mu)\n",
    "    \n",
    "    def forward(self,x,length):\n",
    "        batch_size = x.size(0)\n",
    "        sorted_lengths, sorted_idx = torch.sort(length, descending=True)\n",
    "        input_sequence = x[sorted_idx.cuda()]\n",
    "        #print(input_sequence)\n",
    "        _,hidden = self.encoder(self.embedding(input_sequence))\n",
    "        if self.bidirectional or self.num_layers > 1:\n",
    "            # flatten hidden state\n",
    "            hidden = hidden.view(batch_size, self.hidden_size*self.hidden_factor)\n",
    "        else:\n",
    "            hidden = hidden.squeeze()\n",
    "\n",
    "        mu = self.hidden2mean(hidden)\n",
    "        logvar = self.hidden2logv(hidden)\n",
    "\n",
    "        reparam = self.reparametrize(mu,logvar)\n",
    "        \n",
    "        return mu,logvar,reparam\n",
    "        \n"
   ]
  },
  {
   "cell_type": "code",
   "execution_count": 15,
   "metadata": {},
   "outputs": [],
   "source": [
    "class Decoder(nn.Module):\n",
    "    def __init__(self,vocab_size,embedding_size, hidden_size, latent_size, bidirectional=True, num_layers = 1,rnn_type='rnn',word_dropout = 0.5):\n",
    "        super(Decoder,self).__init__()\n",
    "        \n",
    "        self.vocab_size = vocab_size\n",
    "        self.embedding_size = embedding_size\n",
    "        self.latent_size = latent_size\n",
    "        self.rnn_type = rnn_type\n",
    "        self.bidirectional = bidirectional\n",
    "        self.num_layers = num_layers\n",
    "        self.hidden_size = hidden_size\n",
    "        \n",
    "        if self.rnn_type == 'rnn':\n",
    "            rnn = nn.RNN\n",
    "        elif self.rnn_type == 'gru':\n",
    "            rnn = nn.GRU\n",
    "        elif self.rnn_type =='lstm':\n",
    "            rnn = nn.LSTM\n",
    "        else:\n",
    "            raise ValueError()\n",
    "            \n",
    "        self.hidden_factor = (2 if self.bidirectional else 1) * self.num_layers            \n",
    "        self.latent2hidden = nn.Linear(latent_size, hidden_size * self.hidden_factor)\n",
    "        \n",
    "        self.embedding = nn.Embedding(vocab_size,embedding_size)\n",
    "        self.word_dropout = nn.Dropout(p=word_dropout)\n",
    "        \n",
    "        self.decoder = rnn(embedding_size, hidden_size, num_layers=num_layers, bidirectional=self.bidirectional, batch_first=True)\n",
    "        self.outputs2vocab = nn.Linear(hidden_size * (2 if bidirectional else 1), vocab_size)\n",
    "        \n",
    "    def forward(self,x,z):\n",
    "        \n",
    "        batch_size = x.size(0)\n",
    "        sorted_lengths, sorted_idx = torch.sort(length, descending=True)\n",
    "        input_sequence = x[sorted_idx.cuda()]\n",
    "        \n",
    "        hidden = self.latent2hidden(z)\n",
    "        if self.bidirectional or self.num_layers > 1:\n",
    "            # unflatten hidden state\n",
    "            hidden = hidden.view(self.hidden_factor, batch_size, self.hidden_size)\n",
    "        else:\n",
    "            hidden = hidden.unsqueeze(0)\n",
    "            \n",
    "        outputs,_ = self.decoder(self.embedding(input_sequence),hidden)\n",
    "        \n",
    "        logp =nn.functional.log_softmax(self.outputs2vocab(outputs))\n",
    "        \n",
    "        return logp\n",
    "        \n"
   ]
  },
  {
   "cell_type": "code",
   "execution_count": 17,
   "metadata": {},
   "outputs": [],
   "source": [
    "rvae=RVAE(vocab_size, embedding_size, max_sequence_length, hidden_size, word_dropout, latent_size,sos_idx, eos_idx, pad_idx , rnn_type='gru')"
   ]
  },
  {
   "cell_type": "code",
   "execution_count": 18,
   "metadata": {},
   "outputs": [],
   "source": [
    "def kl_anneal_function(anneal_function, step, k, x0):\n",
    "    if anneal_function == 'logistic':\n",
    "        return float(1/(1+np.exp(-k*(step-x0))))\n",
    "    elif anneal_function == 'linear':\n",
    "        return min(1, step/x0)\n",
    "\n",
    "NLL = torch.nn.NLLLoss(size_average=False, ignore_index=datasets['train'].pad_idx)"
   ]
  },
  {
   "cell_type": "code",
   "execution_count": 19,
   "metadata": {},
   "outputs": [],
   "source": [
    "def loss_fn(logp, target, length, mean, logv, anneal_function, step, k, x0):\n",
    "\n",
    "    # cut-off unnecessary padding from target, and flatten\n",
    "    target = target[:, :60].contiguous().view(-1)\n",
    "    logp = logp.view(-1, logp.size(2))\n",
    "\n",
    "    # Negative Log Likelihood\n",
    "    NLL_loss = NLL(logp, target)\n",
    "\n",
    "    # KL Divergence\n",
    "    KL_loss = -0.5 * torch.sum(1 + logv - mean.pow(2) - logv.exp())\n",
    "    KL_weight = kl_anneal_function(anneal_function, step, k, x0)\n",
    "\n",
    "    return NLL_loss, KL_loss, KL_weight"
   ]
  },
  {
   "cell_type": "code",
   "execution_count": 20,
   "metadata": {},
   "outputs": [],
   "source": [
    "optimizer = torch.optim.Adam(rvae.parameters(), lr=learning_rate)"
   ]
  },
  {
   "cell_type": "code",
   "execution_count": null,
   "metadata": {},
   "outputs": [],
   "source": [
    "print(rvae),rvae.parameters()"
   ]
  },
  {
   "cell_type": "code",
   "execution_count": 22,
   "metadata": {},
   "outputs": [],
   "source": [
    "epochs = 30"
   ]
  },
  {
   "cell_type": "code",
   "execution_count": null,
   "metadata": {
    "scrolled": true
   },
   "outputs": [
    {
     "name": "stderr",
     "output_type": "stream",
     "text": [
      "C:\\Users\\asd13\\AppData\\Local\\Continuum\\Anaconda3\\lib\\site-packages\\ipykernel\\__main__.py:46: UserWarning: Implicit dimension choice for log_softmax has been deprecated. Change the call to include dim=X as an argument.\n"
     ]
    },
    {
     "name": "stdout",
     "output_type": "stream",
     "text": [
      "TRAIN Batch 0000/1314, Loss   86.3271, NLL-Loss   86.3259, KL-Loss    0.6551, KL-Weight  0.002\n",
      "TRAIN Batch 0100/1314, Loss   82.6631, NLL-Loss   82.6601, KL-Loss    1.1949, KL-Weight  0.002\n",
      "TRAIN Batch 0200/1314, Loss   69.8017, NLL-Loss   69.7987, KL-Loss    0.9662, KL-Weight  0.003\n",
      "TRAIN Batch 0300/1314, Loss   83.6196, NLL-Loss   83.6157, KL-Loss    0.9511, KL-Weight  0.004\n",
      "TRAIN Batch 0400/1314, Loss   61.0029, NLL-Loss   60.9991, KL-Loss    0.7356, KL-Weight  0.005\n",
      "TRAIN Batch 0500/1314, Loss   82.7436, NLL-Loss   82.7404, KL-Loss    0.4821, KL-Weight  0.007\n",
      "TRAIN Batch 0600/1314, Loss   86.1542, NLL-Loss   86.1510, KL-Loss    0.3664, KL-Weight  0.009\n",
      "TRAIN Batch 0700/1314, Loss   81.6193, NLL-Loss   81.6172, KL-Loss    0.1946, KL-Weight  0.011\n",
      "TRAIN Batch 0800/1314, Loss   77.4407, NLL-Loss   77.4376, KL-Loss    0.2156, KL-Weight  0.014\n",
      "TRAIN Batch 0900/1314, Loss   69.4104, NLL-Loss   69.4089, KL-Loss    0.0877, KL-Weight  0.018\n",
      "TRAIN Batch 1000/1314, Loss   82.8656, NLL-Loss   82.8640, KL-Loss    0.0711, KL-Weight  0.023\n",
      "TRAIN Batch 1100/1314, Loss   91.5818, NLL-Loss   91.5799, KL-Loss    0.0645, KL-Weight  0.029\n",
      "TRAIN Batch 1200/1314, Loss   76.9611, NLL-Loss   76.9592, KL-Loss    0.0496, KL-Weight  0.037\n",
      "TRAIN Batch 1300/1314, Loss   75.2071, NLL-Loss   75.2058, KL-Loss    0.0286, KL-Weight  0.047\n",
      "TRAIN Batch 1314/1314, Loss   74.3517, NLL-Loss   74.3503, KL-Loss    0.0286, KL-Weight  0.049\n"
     ]
    },
    {
     "name": "stderr",
     "output_type": "stream",
     "text": [
      "C:\\Users\\asd13\\AppData\\Local\\Continuum\\Anaconda3\\lib\\site-packages\\torch\\serialization.py:159: UserWarning: Couldn't retrieve source code for container of type RVAE. It won't be checked for correctness upon loading.\n",
      "  \"type \" + obj.__name__ + \". It won't be checked \"\n",
      "C:\\Users\\asd13\\AppData\\Local\\Continuum\\Anaconda3\\lib\\site-packages\\torch\\serialization.py:159: UserWarning: Couldn't retrieve source code for container of type Encoder. It won't be checked for correctness upon loading.\n",
      "  \"type \" + obj.__name__ + \". It won't be checked \"\n",
      "C:\\Users\\asd13\\AppData\\Local\\Continuum\\Anaconda3\\lib\\site-packages\\torch\\serialization.py:159: UserWarning: Couldn't retrieve source code for container of type Decoder. It won't be checked for correctness upon loading.\n",
      "  \"type \" + obj.__name__ + \". It won't be checked \"\n"
     ]
    },
    {
     "name": "stdout",
     "output_type": "stream",
     "text": [
      "Model saved at won\\2018-May-14-14-34-55\\E0.pytorch\n",
      "TRAIN Epoch 00/30, Mean ELBO   79.3321\n",
      "VALID Batch 0000/105, Loss   81.2188, NLL-Loss   81.2173, KL-Loss    0.0298, KL-Weight  0.049\n",
      "VALID Batch 0100/105, Loss   61.7908, NLL-Loss   61.7893, KL-Loss    0.0300, KL-Weight  0.049\n",
      "VALID Batch 0105/105, Loss   52.7749, NLL-Loss   52.7735, KL-Loss    0.0287, KL-Weight  0.049\n",
      "VALID Epoch 00/30, Mean ELBO   79.2570\n",
      "TRAIN Batch 0000/1314, Loss   81.1420, NLL-Loss   81.1406, KL-Loss    0.0290, KL-Weight  0.049\n",
      "TRAIN Batch 0100/1314, Loss   81.1610, NLL-Loss   81.1597, KL-Loss    0.0209, KL-Weight  0.062\n",
      "TRAIN Batch 0200/1314, Loss   79.7862, NLL-Loss   79.7845, KL-Loss    0.0212, KL-Weight  0.079\n",
      "TRAIN Batch 0300/1314, Loss   74.0273, NLL-Loss   74.0264, KL-Loss    0.0085, KL-Weight  0.099\n",
      "TRAIN Batch 0400/1314, Loss   71.7093, NLL-Loss   71.7075, KL-Loss    0.0148, KL-Weight  0.123\n",
      "TRAIN Batch 0500/1314, Loss   79.9919, NLL-Loss   79.9913, KL-Loss    0.0043, KL-Weight  0.153\n",
      "TRAIN Batch 0600/1314, Loss   80.5444, NLL-Loss   80.5434, KL-Loss    0.0054, KL-Weight  0.188\n",
      "TRAIN Batch 0700/1314, Loss   74.4827, NLL-Loss   74.4812, KL-Loss    0.0067, KL-Weight  0.229\n",
      "TRAIN Batch 0800/1314, Loss   82.1261, NLL-Loss   82.1255, KL-Loss    0.0020, KL-Weight  0.276\n",
      "TRAIN Batch 0900/1314, Loss   75.2387, NLL-Loss   75.2356, KL-Loss    0.0093, KL-Weight  0.329\n",
      "TRAIN Batch 1000/1314, Loss   80.4696, NLL-Loss   80.4687, KL-Loss    0.0023, KL-Weight  0.386\n",
      "TRAIN Batch 1100/1314, Loss   75.3527, NLL-Loss   75.3494, KL-Loss    0.0074, KL-Weight  0.447\n",
      "TRAIN Batch 1200/1314, Loss   87.8494, NLL-Loss   87.8457, KL-Loss    0.0073, KL-Weight  0.509\n",
      "TRAIN Batch 1300/1314, Loss   76.4024, NLL-Loss   76.4015, KL-Loss    0.0016, KL-Weight  0.571\n",
      "TRAIN Batch 1314/1314, Loss   66.2255, NLL-Loss   66.2244, KL-Loss    0.0019, KL-Weight  0.580\n",
      "Model saved at won\\2018-May-14-14-34-55\\E1.pytorch\n",
      "TRAIN Epoch 01/30, Mean ELBO   79.2663\n",
      "VALID Batch 0000/105, Loss   81.1667, NLL-Loss   81.1655, KL-Loss    0.0021, KL-Weight  0.581\n",
      "VALID Batch 0100/105, Loss   61.7106, NLL-Loss   61.7093, KL-Loss    0.0021, KL-Weight  0.581\n",
      "VALID Batch 0105/105, Loss   52.5973, NLL-Loss   52.5961, KL-Loss    0.0021, KL-Weight  0.581\n",
      "VALID Epoch 01/30, Mean ELBO   79.2294\n",
      "TRAIN Batch 0000/1314, Loss   78.2466, NLL-Loss   78.2454, KL-Loss    0.0021, KL-Weight  0.581\n",
      "TRAIN Batch 0100/1314, Loss   78.7725, NLL-Loss   78.7715, KL-Loss    0.0015, KL-Weight  0.640\n",
      "TRAIN Batch 0200/1314, Loss   75.5769, NLL-Loss   75.5763, KL-Loss    0.0008, KL-Weight  0.695\n",
      "TRAIN Batch 0300/1314, Loss   71.0104, NLL-Loss   71.0096, KL-Loss    0.0010, KL-Weight  0.746\n",
      "TRAIN Batch 0400/1314, Loss   80.6780, NLL-Loss   80.6769, KL-Loss    0.0015, KL-Weight  0.790\n",
      "TRAIN Batch 0500/1314, Loss   77.0411, NLL-Loss   77.0405, KL-Loss    0.0008, KL-Weight  0.828\n",
      "TRAIN Batch 0600/1314, Loss   84.9354, NLL-Loss   84.9316, KL-Loss    0.0044, KL-Weight  0.861\n",
      "TRAIN Batch 0700/1314, Loss   75.8405, NLL-Loss   75.8400, KL-Loss    0.0006, KL-Weight  0.888\n",
      "TRAIN Batch 0800/1314, Loss   85.0885, NLL-Loss   85.0879, KL-Loss    0.0006, KL-Weight  0.911\n",
      "TRAIN Batch 0900/1314, Loss   80.8791, NLL-Loss   80.8787, KL-Loss    0.0004, KL-Weight  0.929\n",
      "TRAIN Batch 1000/1314, Loss   87.0734, NLL-Loss   87.0727, KL-Loss    0.0008, KL-Weight  0.944\n",
      "TRAIN Batch 1100/1314, Loss   77.2938, NLL-Loss   77.2932, KL-Loss    0.0006, KL-Weight  0.956\n",
      "TRAIN Batch 1200/1314, Loss   87.0008, NLL-Loss   87.0004, KL-Loss    0.0005, KL-Weight  0.965\n",
      "TRAIN Batch 1300/1314, Loss   71.3525, NLL-Loss   71.3521, KL-Loss    0.0004, KL-Weight  0.973\n",
      "TRAIN Batch 1314/1314, Loss   76.2923, NLL-Loss   76.2918, KL-Loss    0.0005, KL-Weight  0.974\n",
      "Model saved at won\\2018-May-14-14-34-55\\E2.pytorch\n",
      "TRAIN Epoch 02/30, Mean ELBO   79.2361\n",
      "VALID Batch 0000/105, Loss   81.1970, NLL-Loss   81.1967, KL-Loss    0.0004, KL-Weight  0.974\n",
      "VALID Batch 0100/105, Loss   61.6762, NLL-Loss   61.6759, KL-Loss    0.0004, KL-Weight  0.974\n",
      "VALID Batch 0105/105, Loss   52.4918, NLL-Loss   52.4914, KL-Loss    0.0004, KL-Weight  0.974\n",
      "VALID Epoch 02/30, Mean ELBO   79.2114\n",
      "TRAIN Batch 0000/1314, Loss   81.3881, NLL-Loss   81.3865, KL-Loss    0.0016, KL-Weight  0.974\n",
      "TRAIN Batch 0100/1314, Loss   83.4294, NLL-Loss   83.4289, KL-Loss    0.0005, KL-Weight  0.979\n",
      "TRAIN Batch 0200/1314, Loss   77.4118, NLL-Loss   77.4115, KL-Loss    0.0003, KL-Weight  0.984\n",
      "TRAIN Batch 0300/1314, Loss   79.8282, NLL-Loss   79.8276, KL-Loss    0.0006, KL-Weight  0.987\n",
      "TRAIN Batch 0400/1314, Loss   78.1019, NLL-Loss   78.1013, KL-Loss    0.0006, KL-Weight  0.990\n",
      "TRAIN Batch 0500/1314, Loss   74.5113, NLL-Loss   74.5107, KL-Loss    0.0007, KL-Weight  0.992\n",
      "TRAIN Batch 0600/1314, Loss   86.7015, NLL-Loss   86.6964, KL-Loss    0.0051, KL-Weight  0.994\n",
      "TRAIN Batch 0700/1314, Loss   81.1681, NLL-Loss   81.1677, KL-Loss    0.0004, KL-Weight  0.995\n",
      "TRAIN Batch 0800/1314, Loss   69.7232, NLL-Loss   69.7226, KL-Loss    0.0007, KL-Weight  0.996\n",
      "TRAIN Batch 0900/1314, Loss   85.0991, NLL-Loss   85.0985, KL-Loss    0.0006, KL-Weight  0.997\n",
      "TRAIN Batch 1000/1314, Loss   69.6226, NLL-Loss   69.6221, KL-Loss    0.0005, KL-Weight  0.998\n",
      "TRAIN Batch 1100/1314, Loss   91.4930, NLL-Loss   91.4920, KL-Loss    0.0010, KL-Weight  0.998\n",
      "TRAIN Batch 1200/1314, Loss   86.4164, NLL-Loss   86.4158, KL-Loss    0.0006, KL-Weight  0.999\n",
      "TRAIN Batch 1300/1314, Loss   80.0183, NLL-Loss   80.0178, KL-Loss    0.0005, KL-Weight  0.999\n",
      "TRAIN Batch 1314/1314, Loss   65.2848, NLL-Loss   65.2840, KL-Loss    0.0008, KL-Weight  0.999\n",
      "Model saved at won\\2018-May-14-14-34-55\\E3.pytorch\n",
      "TRAIN Epoch 03/30, Mean ELBO   79.2070\n",
      "VALID Batch 0000/105, Loss   81.1209, NLL-Loss   81.1203, KL-Loss    0.0007, KL-Weight  0.999\n",
      "VALID Batch 0100/105, Loss   61.6254, NLL-Loss   61.6248, KL-Loss    0.0007, KL-Weight  0.999\n",
      "VALID Batch 0105/105, Loss   52.3823, NLL-Loss   52.3816, KL-Loss    0.0007, KL-Weight  0.999\n",
      "VALID Epoch 03/30, Mean ELBO   79.1878\n",
      "TRAIN Batch 0000/1314, Loss   85.5201, NLL-Loss   85.5194, KL-Loss    0.0006, KL-Weight  0.999\n",
      "TRAIN Batch 0100/1314, Loss   95.4671, NLL-Loss   95.4666, KL-Loss    0.0005, KL-Weight  0.999\n",
      "TRAIN Batch 0200/1314, Loss   78.1652, NLL-Loss   78.1647, KL-Loss    0.0005, KL-Weight  0.999\n",
      "TRAIN Batch 0300/1314, Loss   91.3143, NLL-Loss   91.3137, KL-Loss    0.0006, KL-Weight  1.000\n",
      "TRAIN Batch 0400/1314, Loss   88.7833, NLL-Loss   88.7829, KL-Loss    0.0005, KL-Weight  1.000\n",
      "TRAIN Batch 0500/1314, Loss   79.1621, NLL-Loss   79.1609, KL-Loss    0.0012, KL-Weight  1.000\n",
      "TRAIN Batch 0600/1314, Loss   71.8303, NLL-Loss   71.8299, KL-Loss    0.0005, KL-Weight  1.000\n",
      "TRAIN Batch 0700/1314, Loss   86.7150, NLL-Loss   86.7145, KL-Loss    0.0006, KL-Weight  1.000\n",
      "TRAIN Batch 0800/1314, Loss   82.8536, NLL-Loss   82.8523, KL-Loss    0.0013, KL-Weight  1.000\n",
      "TRAIN Batch 0900/1314, Loss   78.0863, NLL-Loss   78.0850, KL-Loss    0.0013, KL-Weight  1.000\n",
      "TRAIN Batch 1000/1314, Loss   71.0033, NLL-Loss   71.0027, KL-Loss    0.0006, KL-Weight  1.000\n",
      "TRAIN Batch 1100/1314, Loss   79.5729, NLL-Loss   79.5723, KL-Loss    0.0006, KL-Weight  1.000\n",
      "TRAIN Batch 1200/1314, Loss   72.8070, NLL-Loss   72.8064, KL-Loss    0.0006, KL-Weight  1.000\n",
      "TRAIN Batch 1300/1314, Loss   84.1011, NLL-Loss   84.1006, KL-Loss    0.0005, KL-Weight  1.000\n",
      "TRAIN Batch 1314/1314, Loss   70.9778, NLL-Loss   70.9774, KL-Loss    0.0004, KL-Weight  1.000\n",
      "Model saved at won\\2018-May-14-14-34-55\\E4.pytorch\n",
      "TRAIN Epoch 04/30, Mean ELBO   79.1805\n",
      "VALID Batch 0000/105, Loss   81.0452, NLL-Loss   81.0448, KL-Loss    0.0004, KL-Weight  1.000\n",
      "VALID Batch 0100/105, Loss   61.6683, NLL-Loss   61.6680, KL-Loss    0.0004, KL-Weight  1.000\n",
      "VALID Batch 0105/105, Loss   52.2935, NLL-Loss   52.2931, KL-Loss    0.0004, KL-Weight  1.000\n",
      "VALID Epoch 04/30, Mean ELBO   79.1651\n",
      "TRAIN Batch 0000/1314, Loss   73.7830, NLL-Loss   73.7826, KL-Loss    0.0004, KL-Weight  1.000\n",
      "TRAIN Batch 0100/1314, Loss   82.1197, NLL-Loss   82.1187, KL-Loss    0.0010, KL-Weight  1.000\n",
      "TRAIN Batch 0200/1314, Loss   83.2944, NLL-Loss   83.2936, KL-Loss    0.0008, KL-Weight  1.000\n",
      "TRAIN Batch 0300/1314, Loss   79.5537, NLL-Loss   79.5534, KL-Loss    0.0003, KL-Weight  1.000\n",
      "TRAIN Batch 0400/1314, Loss   78.2918, NLL-Loss   78.2913, KL-Loss    0.0005, KL-Weight  1.000\n"
     ]
    },
    {
     "name": "stdout",
     "output_type": "stream",
     "text": [
      "TRAIN Batch 0500/1314, Loss   74.9350, NLL-Loss   74.9345, KL-Loss    0.0005, KL-Weight  1.000\n",
      "TRAIN Batch 0600/1314, Loss   69.2503, NLL-Loss   69.2499, KL-Loss    0.0004, KL-Weight  1.000\n",
      "TRAIN Batch 0700/1314, Loss   67.7519, NLL-Loss   67.7512, KL-Loss    0.0007, KL-Weight  1.000\n",
      "TRAIN Batch 0800/1314, Loss   77.3283, NLL-Loss   77.3279, KL-Loss    0.0004, KL-Weight  1.000\n",
      "TRAIN Batch 0900/1314, Loss   72.7877, NLL-Loss   72.7872, KL-Loss    0.0005, KL-Weight  1.000\n",
      "TRAIN Batch 1000/1314, Loss   76.4553, NLL-Loss   76.4547, KL-Loss    0.0006, KL-Weight  1.000\n",
      "TRAIN Batch 1100/1314, Loss   79.7351, NLL-Loss   79.7346, KL-Loss    0.0005, KL-Weight  1.000\n",
      "TRAIN Batch 1200/1314, Loss   73.2041, NLL-Loss   73.2035, KL-Loss    0.0006, KL-Weight  1.000\n",
      "TRAIN Batch 1300/1314, Loss   80.4982, NLL-Loss   80.4979, KL-Loss    0.0003, KL-Weight  1.000\n",
      "TRAIN Batch 1314/1314, Loss   68.4657, NLL-Loss   68.4654, KL-Loss    0.0003, KL-Weight  1.000\n",
      "Model saved at won\\2018-May-14-14-34-55\\E5.pytorch\n",
      "TRAIN Epoch 05/30, Mean ELBO   79.1596\n",
      "VALID Batch 0000/105, Loss   81.0144, NLL-Loss   81.0141, KL-Loss    0.0003, KL-Weight  1.000\n",
      "VALID Batch 0100/105, Loss   61.6593, NLL-Loss   61.6590, KL-Loss    0.0003, KL-Weight  1.000\n",
      "VALID Batch 0105/105, Loss   52.3119, NLL-Loss   52.3116, KL-Loss    0.0003, KL-Weight  1.000\n",
      "VALID Epoch 05/30, Mean ELBO   79.1470\n",
      "TRAIN Batch 0000/1314, Loss   76.5668, NLL-Loss   76.5665, KL-Loss    0.0003, KL-Weight  1.000\n",
      "TRAIN Batch 0100/1314, Loss   67.0407, NLL-Loss   67.0404, KL-Loss    0.0003, KL-Weight  1.000\n",
      "TRAIN Batch 0200/1314, Loss   77.6824, NLL-Loss   77.6817, KL-Loss    0.0007, KL-Weight  1.000\n",
      "TRAIN Batch 0300/1314, Loss   81.2509, NLL-Loss   81.2505, KL-Loss    0.0004, KL-Weight  1.000\n",
      "TRAIN Batch 0400/1314, Loss   71.1706, NLL-Loss   71.1702, KL-Loss    0.0004, KL-Weight  1.000\n",
      "TRAIN Batch 0500/1314, Loss   79.2561, NLL-Loss   79.2558, KL-Loss    0.0003, KL-Weight  1.000\n",
      "TRAIN Batch 0600/1314, Loss   83.3750, NLL-Loss   83.3743, KL-Loss    0.0007, KL-Weight  1.000\n",
      "TRAIN Batch 0700/1314, Loss   83.1413, NLL-Loss   83.1408, KL-Loss    0.0005, KL-Weight  1.000\n",
      "TRAIN Batch 0800/1314, Loss   87.4136, NLL-Loss   87.4130, KL-Loss    0.0006, KL-Weight  1.000\n",
      "TRAIN Batch 0900/1314, Loss   80.4339, NLL-Loss   80.4331, KL-Loss    0.0008, KL-Weight  1.000\n",
      "TRAIN Batch 1000/1314, Loss   78.8587, NLL-Loss   78.8583, KL-Loss    0.0004, KL-Weight  1.000\n",
      "TRAIN Batch 1100/1314, Loss   75.1205, NLL-Loss   75.1201, KL-Loss    0.0004, KL-Weight  1.000\n",
      "TRAIN Batch 1200/1314, Loss   72.6848, NLL-Loss   72.6844, KL-Loss    0.0004, KL-Weight  1.000\n",
      "TRAIN Batch 1300/1314, Loss   73.4848, NLL-Loss   73.4844, KL-Loss    0.0004, KL-Weight  1.000\n",
      "TRAIN Batch 1314/1314, Loss   63.5047, NLL-Loss   63.5044, KL-Loss    0.0003, KL-Weight  1.000\n",
      "Model saved at won\\2018-May-14-14-34-55\\E6.pytorch\n",
      "TRAIN Epoch 06/30, Mean ELBO   79.1439\n",
      "VALID Batch 0000/105, Loss   81.0435, NLL-Loss   81.0432, KL-Loss    0.0003, KL-Weight  1.000\n",
      "VALID Batch 0100/105, Loss   61.6398, NLL-Loss   61.6395, KL-Loss    0.0003, KL-Weight  1.000\n",
      "VALID Batch 0105/105, Loss   52.2886, NLL-Loss   52.2883, KL-Loss    0.0003, KL-Weight  1.000\n",
      "VALID Epoch 06/30, Mean ELBO   79.1332\n",
      "TRAIN Batch 0000/1314, Loss   79.3907, NLL-Loss   79.3904, KL-Loss    0.0003, KL-Weight  1.000\n",
      "TRAIN Batch 0100/1314, Loss   77.6530, NLL-Loss   77.6525, KL-Loss    0.0005, KL-Weight  1.000\n",
      "TRAIN Batch 0200/1314, Loss   75.0712, NLL-Loss   75.0709, KL-Loss    0.0003, KL-Weight  1.000\n",
      "TRAIN Batch 0300/1314, Loss   72.3524, NLL-Loss   72.3522, KL-Loss    0.0002, KL-Weight  1.000\n",
      "TRAIN Batch 0400/1314, Loss   82.5990, NLL-Loss   82.5987, KL-Loss    0.0003, KL-Weight  1.000\n",
      "TRAIN Batch 0500/1314, Loss   74.5520, NLL-Loss   74.5516, KL-Loss    0.0004, KL-Weight  1.000\n",
      "TRAIN Batch 0600/1314, Loss   77.8748, NLL-Loss   77.8742, KL-Loss    0.0006, KL-Weight  1.000\n",
      "TRAIN Batch 0700/1314, Loss   89.5845, NLL-Loss   89.5841, KL-Loss    0.0004, KL-Weight  1.000\n",
      "TRAIN Batch 0800/1314, Loss   85.9043, NLL-Loss   85.9039, KL-Loss    0.0004, KL-Weight  1.000\n",
      "TRAIN Batch 0900/1314, Loss   77.5419, NLL-Loss   77.5414, KL-Loss    0.0006, KL-Weight  1.000\n",
      "TRAIN Batch 1000/1314, Loss   71.5973, NLL-Loss   71.5967, KL-Loss    0.0006, KL-Weight  1.000\n",
      "TRAIN Batch 1100/1314, Loss   72.8020, NLL-Loss   72.8017, KL-Loss    0.0003, KL-Weight  1.000\n",
      "TRAIN Batch 1200/1314, Loss   81.8904, NLL-Loss   81.8899, KL-Loss    0.0005, KL-Weight  1.000\n",
      "TRAIN Batch 1300/1314, Loss   72.9201, NLL-Loss   72.9198, KL-Loss    0.0003, KL-Weight  1.000\n",
      "TRAIN Batch 1314/1314, Loss   60.0330, NLL-Loss   60.0327, KL-Loss    0.0003, KL-Weight  1.000\n",
      "Model saved at won\\2018-May-14-14-34-55\\E7.pytorch\n",
      "TRAIN Epoch 07/30, Mean ELBO   79.1318\n",
      "VALID Batch 0000/105, Loss   81.0200, NLL-Loss   81.0196, KL-Loss    0.0004, KL-Weight  1.000\n",
      "VALID Batch 0100/105, Loss   61.6446, NLL-Loss   61.6443, KL-Loss    0.0004, KL-Weight  1.000\n",
      "VALID Batch 0105/105, Loss   52.2433, NLL-Loss   52.2429, KL-Loss    0.0004, KL-Weight  1.000\n",
      "VALID Epoch 07/30, Mean ELBO   79.1225\n",
      "TRAIN Batch 0000/1314, Loss   82.1930, NLL-Loss   82.1924, KL-Loss    0.0006, KL-Weight  1.000\n",
      "TRAIN Batch 0100/1314, Loss   72.1326, NLL-Loss   72.1324, KL-Loss    0.0003, KL-Weight  1.000\n",
      "TRAIN Batch 0200/1314, Loss   80.8463, NLL-Loss   80.8460, KL-Loss    0.0003, KL-Weight  1.000\n",
      "TRAIN Batch 0300/1314, Loss   70.9747, NLL-Loss   70.9742, KL-Loss    0.0004, KL-Weight  1.000\n",
      "TRAIN Batch 0400/1314, Loss   69.4289, NLL-Loss   69.4285, KL-Loss    0.0004, KL-Weight  1.000\n",
      "TRAIN Batch 0500/1314, Loss   72.7679, NLL-Loss   72.7676, KL-Loss    0.0003, KL-Weight  1.000\n",
      "TRAIN Batch 0600/1314, Loss   76.2498, NLL-Loss   76.2495, KL-Loss    0.0003, KL-Weight  1.000\n",
      "TRAIN Batch 0700/1314, Loss   78.0794, NLL-Loss   78.0788, KL-Loss    0.0006, KL-Weight  1.000\n",
      "TRAIN Batch 0800/1314, Loss   92.6954, NLL-Loss   92.6952, KL-Loss    0.0002, KL-Weight  1.000\n",
      "TRAIN Batch 0900/1314, Loss   75.8161, NLL-Loss   75.8157, KL-Loss    0.0004, KL-Weight  1.000\n",
      "TRAIN Batch 1000/1314, Loss   77.8987, NLL-Loss   77.8985, KL-Loss    0.0002, KL-Weight  1.000\n",
      "TRAIN Batch 1100/1314, Loss   73.9617, NLL-Loss   73.9613, KL-Loss    0.0004, KL-Weight  1.000\n",
      "TRAIN Batch 1200/1314, Loss   75.1711, NLL-Loss   75.1708, KL-Loss    0.0003, KL-Weight  1.000\n",
      "TRAIN Batch 1300/1314, Loss   76.5014, NLL-Loss   76.5011, KL-Loss    0.0003, KL-Weight  1.000\n",
      "TRAIN Batch 1314/1314, Loss   67.4573, NLL-Loss   67.4571, KL-Loss    0.0002, KL-Weight  1.000\n",
      "Model saved at won\\2018-May-14-14-34-55\\E8.pytorch\n",
      "TRAIN Epoch 08/30, Mean ELBO   79.1225\n",
      "VALID Batch 0000/105, Loss   81.0171, NLL-Loss   81.0169, KL-Loss    0.0003, KL-Weight  1.000\n",
      "VALID Batch 0100/105, Loss   61.6399, NLL-Loss   61.6396, KL-Loss    0.0003, KL-Weight  1.000\n",
      "VALID Batch 0105/105, Loss   52.2695, NLL-Loss   52.2692, KL-Loss    0.0003, KL-Weight  1.000\n",
      "VALID Epoch 08/30, Mean ELBO   79.1143\n",
      "TRAIN Batch 0000/1314, Loss   70.0652, NLL-Loss   70.0649, KL-Loss    0.0003, KL-Weight  1.000\n",
      "TRAIN Batch 0100/1314, Loss   80.5747, NLL-Loss   80.5745, KL-Loss    0.0002, KL-Weight  1.000\n",
      "TRAIN Batch 0200/1314, Loss   79.9415, NLL-Loss   79.9413, KL-Loss    0.0002, KL-Weight  1.000\n",
      "TRAIN Batch 0300/1314, Loss   75.3786, NLL-Loss   75.3784, KL-Loss    0.0003, KL-Weight  1.000\n",
      "TRAIN Batch 0400/1314, Loss   77.2519, NLL-Loss   77.2516, KL-Loss    0.0003, KL-Weight  1.000\n",
      "TRAIN Batch 0500/1314, Loss   80.1450, NLL-Loss   80.1448, KL-Loss    0.0002, KL-Weight  1.000\n",
      "TRAIN Batch 0600/1314, Loss   87.7055, NLL-Loss   87.7053, KL-Loss    0.0002, KL-Weight  1.000\n",
      "TRAIN Batch 0700/1314, Loss   83.5980, NLL-Loss   83.5978, KL-Loss    0.0002, KL-Weight  1.000\n",
      "TRAIN Batch 0800/1314, Loss   79.3014, NLL-Loss   79.3012, KL-Loss    0.0002, KL-Weight  1.000\n",
      "TRAIN Batch 0900/1314, Loss   86.2049, NLL-Loss   86.2047, KL-Loss    0.0002, KL-Weight  1.000\n",
      "TRAIN Batch 1000/1314, Loss   76.8953, NLL-Loss   76.8952, KL-Loss    0.0002, KL-Weight  1.000\n",
      "TRAIN Batch 1100/1314, Loss   90.8770, NLL-Loss   90.8767, KL-Loss    0.0002, KL-Weight  1.000\n",
      "TRAIN Batch 1200/1314, Loss   77.2205, NLL-Loss   77.2202, KL-Loss    0.0002, KL-Weight  1.000\n",
      "TRAIN Batch 1300/1314, Loss   91.4430, NLL-Loss   91.4426, KL-Loss    0.0004, KL-Weight  1.000\n"
     ]
    },
    {
     "name": "stdout",
     "output_type": "stream",
     "text": [
      "TRAIN Batch 1314/1314, Loss   69.6674, NLL-Loss   69.6672, KL-Loss    0.0002, KL-Weight  1.000\n",
      "Model saved at won\\2018-May-14-14-34-55\\E9.pytorch\n",
      "TRAIN Epoch 09/30, Mean ELBO   79.1149\n",
      "VALID Batch 0000/105, Loss   81.0042, NLL-Loss   81.0039, KL-Loss    0.0003, KL-Weight  1.000\n",
      "VALID Batch 0100/105, Loss   61.6326, NLL-Loss   61.6324, KL-Loss    0.0003, KL-Weight  1.000\n",
      "VALID Batch 0105/105, Loss   52.2989, NLL-Loss   52.2987, KL-Loss    0.0003, KL-Weight  1.000\n",
      "VALID Epoch 09/30, Mean ELBO   79.1076\n",
      "TRAIN Batch 0000/1314, Loss   88.8195, NLL-Loss   88.8192, KL-Loss    0.0003, KL-Weight  1.000\n",
      "TRAIN Batch 0100/1314, Loss   76.6938, NLL-Loss   76.6937, KL-Loss    0.0001, KL-Weight  1.000\n",
      "TRAIN Batch 0200/1314, Loss   81.9853, NLL-Loss   81.9851, KL-Loss    0.0002, KL-Weight  1.000\n",
      "TRAIN Batch 0300/1314, Loss   80.6849, NLL-Loss   80.6847, KL-Loss    0.0002, KL-Weight  1.000\n",
      "TRAIN Batch 0400/1314, Loss   73.4182, NLL-Loss   73.4178, KL-Loss    0.0004, KL-Weight  1.000\n",
      "TRAIN Batch 0500/1314, Loss   73.5120, NLL-Loss   73.5117, KL-Loss    0.0004, KL-Weight  1.000\n",
      "TRAIN Batch 0600/1314, Loss   87.9556, NLL-Loss   87.9551, KL-Loss    0.0006, KL-Weight  1.000\n",
      "TRAIN Batch 0700/1314, Loss   84.1446, NLL-Loss   84.1443, KL-Loss    0.0003, KL-Weight  1.000\n",
      "TRAIN Batch 0800/1314, Loss   74.8283, NLL-Loss   74.8280, KL-Loss    0.0003, KL-Weight  1.000\n",
      "TRAIN Batch 0900/1314, Loss   76.9103, NLL-Loss   76.9099, KL-Loss    0.0004, KL-Weight  1.000\n",
      "TRAIN Batch 1000/1314, Loss   79.6863, NLL-Loss   79.6861, KL-Loss    0.0002, KL-Weight  1.000\n",
      "TRAIN Batch 1100/1314, Loss   83.6197, NLL-Loss   83.6195, KL-Loss    0.0002, KL-Weight  1.000\n",
      "TRAIN Batch 1200/1314, Loss   90.1934, NLL-Loss   90.1933, KL-Loss    0.0001, KL-Weight  1.000\n",
      "TRAIN Batch 1300/1314, Loss   78.5260, NLL-Loss   78.5257, KL-Loss    0.0003, KL-Weight  1.000\n",
      "TRAIN Batch 1314/1314, Loss   73.2547, NLL-Loss   73.2545, KL-Loss    0.0002, KL-Weight  1.000\n",
      "Model saved at won\\2018-May-14-14-34-55\\E10.pytorch\n",
      "TRAIN Epoch 10/30, Mean ELBO   79.1088\n",
      "VALID Batch 0000/105, Loss   81.0187, NLL-Loss   81.0184, KL-Loss    0.0002, KL-Weight  1.000\n",
      "VALID Batch 0100/105, Loss   61.6233, NLL-Loss   61.6230, KL-Loss    0.0002, KL-Weight  1.000\n",
      "VALID Batch 0105/105, Loss   52.2407, NLL-Loss   52.2405, KL-Loss    0.0002, KL-Weight  1.000\n",
      "VALID Epoch 10/30, Mean ELBO   79.1022\n",
      "TRAIN Batch 0000/1314, Loss   70.6233, NLL-Loss   70.6231, KL-Loss    0.0002, KL-Weight  1.000\n",
      "TRAIN Batch 0100/1314, Loss   85.0995, NLL-Loss   85.0993, KL-Loss    0.0002, KL-Weight  1.000\n",
      "TRAIN Batch 0200/1314, Loss   75.2785, NLL-Loss   75.2784, KL-Loss    0.0001, KL-Weight  1.000\n",
      "TRAIN Batch 0300/1314, Loss   78.0886, NLL-Loss   78.0884, KL-Loss    0.0001, KL-Weight  1.000\n",
      "TRAIN Batch 0400/1314, Loss   79.8113, NLL-Loss   79.8111, KL-Loss    0.0002, KL-Weight  1.000\n",
      "TRAIN Batch 0500/1314, Loss   81.8974, NLL-Loss   81.8973, KL-Loss    0.0001, KL-Weight  1.000\n",
      "TRAIN Batch 0600/1314, Loss   87.3070, NLL-Loss   87.3066, KL-Loss    0.0003, KL-Weight  1.000\n",
      "TRAIN Batch 0700/1314, Loss   79.6247, NLL-Loss   79.6244, KL-Loss    0.0002, KL-Weight  1.000\n",
      "TRAIN Batch 0800/1314, Loss   79.2856, NLL-Loss   79.2855, KL-Loss    0.0001, KL-Weight  1.000\n",
      "TRAIN Batch 0900/1314, Loss   79.6135, NLL-Loss   79.6134, KL-Loss    0.0001, KL-Weight  1.000\n"
     ]
    }
   ],
   "source": [
    "step = 0\n",
    "avg_losses = []\n",
    "losses = []\n",
    "NLL_losses = []\n",
    "KL_losses = []\n",
    "KL_weights = []\n",
    "\n",
    "for epoch in range(epochs):\n",
    "    for split in splits:\n",
    "        data_loader = DataLoader(\n",
    "                    dataset=datasets[split],\n",
    "                    batch_size=batch_size_fit,\n",
    "                    shuffle=split=='train',\n",
    "                    num_workers=cpu_count(),\n",
    "                    pin_memory=torch.cuda.is_available()\n",
    "                )\n",
    "\n",
    "        if split == 'train':\n",
    "            rvae.train()\n",
    "        else:\n",
    "            rvae.eval()\n",
    "            \n",
    "        for iteration, batch in enumerate(data_loader):\n",
    "            batch_size = batch['input'].size(0)\n",
    "            \n",
    "            optimizer.zero_grad()\n",
    "            \n",
    "            x = batch['input'].type(torch.cuda.LongTensor)\n",
    "            length = batch['length']\n",
    "            \n",
    "            logp, mean, logv, z=rvae(x,length)\n",
    "            \n",
    "            NLL_loss, KL_loss, KL_weight = loss_fn(logp, Variable(batch['target']).type(torch.cuda.LongTensor),batch['length'], mean, logv, 'logistic', step, k, x0)\n",
    "            \n",
    "            loss = (NLL_loss + KL_weight * KL_loss)/batch_size\n",
    "            \n",
    "            losses.append(float(loss.cpu().data))\n",
    "            NLL_losses.append(NLL_loss.data[0]/batch_size)\n",
    "            KL_losses.append(KL_loss.data[0]/batch_size)\n",
    "            KL_weights.append(KL_weight)\n",
    "            \n",
    "\n",
    "            \n",
    "            if split == 'train':\n",
    "                loss.backward()\n",
    "                optimizer.step()\n",
    "                step += 1\n",
    "\n",
    "            if iteration % 100 == 0 or iteration+1 == len(data_loader):\n",
    "                print(\"%s Batch %04d/%i, Loss %9.4f, NLL-Loss %9.4f, KL-Loss %9.4f, KL-Weight %6.3f\"\n",
    "            %(split.upper(), iteration, len(data_loader)-1, loss.data[0], NLL_loss.data[0]/batch_size, KL_loss.data[0]/batch_size, KL_weight))\n",
    "                np.savez(L=losses,file='loss.npz')\n",
    "                np.savez(L=NLL_losses,file='NLL_losses.npz')\n",
    "                np.savez(L=KL_losses,file='KL_losses.npz') \n",
    "                np.savez(L=KL_weights,file='KL_weights.npz')\n",
    "                \n",
    "         # save checkpoint\n",
    "        if split == 'train':\n",
    "            checkpoint_path = os.path.join(save_model_path, \"E%i.pytorch\"%(epoch))\n",
    "            torch.save(rvae, checkpoint_path)\n",
    "            print(\"Model saved at %s\"%checkpoint_path)\n",
    "        print(\"%s Epoch %02d/%i, Mean ELBO %9.4f\"%(split.upper(), epoch, epochs, np.mean(np.array(losses))))\n",
    "        avg_losses.append(np.mean(np.array(losses)))\n",
    "        np.savez(L=avg_losses,file='avg_losses.npz')"
   ]
  },
  {
   "cell_type": "code",
   "execution_count": null,
   "metadata": {},
   "outputs": [],
   "source": [
    "checkpoint_path"
   ]
  },
  {
   "cell_type": "code",
   "execution_count": null,
   "metadata": {},
   "outputs": [],
   "source": [
    "try:\n",
    "    rvae = torch.load(checkpoint_path)\n",
    "    print(\"\\n--------model restored--------\\n\")\n",
    "except:\n",
    "    print(\"\\n--------model not restored--------\\n\")\n",
    "    pass"
   ]
  },
  {
   "cell_type": "code",
   "execution_count": null,
   "metadata": {},
   "outputs": [],
   "source": [
    "rvae.cuda()\n",
    "rvae.eval()"
   ]
  },
  {
   "cell_type": "code",
   "execution_count": null,
   "metadata": {},
   "outputs": [],
   "source": [
    "def _save_sample( save_to, sample, running_seqs, t):\n",
    "    # select only still running\n",
    "    running_latest = save_to[running_seqs]\n",
    "    #print(running_latest)\n",
    "    # update token at position t\n",
    "    running_latest[:,t] = sample.data\n",
    "    #print(running_latest[:,t])\n",
    "    # save back\n",
    "    save_to[running_seqs] = running_latest\n",
    "\n",
    "    return save_to"
   ]
  },
  {
   "cell_type": "code",
   "execution_count": null,
   "metadata": {},
   "outputs": [],
   "source": [
    "batch_size = 1"
   ]
  },
  {
   "cell_type": "code",
   "execution_count": null,
   "metadata": {},
   "outputs": [],
   "source": [
    "generations=torch.cuda.FloatTensor(batch_size, max_sequence_length).fill_(pad_idx).long()"
   ]
  },
  {
   "cell_type": "code",
   "execution_count": null,
   "metadata": {},
   "outputs": [],
   "source": [
    "z = Variable(torch.randn([batch_size, latent_size])).cuda()"
   ]
  },
  {
   "cell_type": "code",
   "execution_count": null,
   "metadata": {},
   "outputs": [],
   "source": [
    "hidden = rvae.decoder.latent2hidden(z)"
   ]
  },
  {
   "cell_type": "code",
   "execution_count": null,
   "metadata": {},
   "outputs": [],
   "source": [
    "hidden = hidden.view(rvae.encoder.hidden_factor, batch_size, rvae.hidden_size)"
   ]
  },
  {
   "cell_type": "code",
   "execution_count": null,
   "metadata": {},
   "outputs": [],
   "source": [
    "t = 0\n",
    "\n",
    "while(t<max_sequence_length ):\n",
    "    if t == 0:\n",
    "        input_sequence = Variable(torch.Tensor(batch_size).fill_(sos_idx).long()).cuda()\n",
    "    input_sequence = input_sequence.unsqueeze(1)\n",
    "    input_embedding = rvae.encoder.embedding(input_sequence)\n",
    "    output, hidden = rvae.decoder.decoder(input_embedding, hidden)\n",
    "    logits = rvae.decoder.outputs2vocab(output)\n",
    "    samples = torch.topk(logits,1,dim=-1)[1].squeeze()\n",
    "    input_sequence = samples.squeeze()\n",
    "    generations[:,t] = input_sequence.data\n",
    "    if (input_sequence == eos_idx).cpu().data.numpy():\n",
    "        break\n",
    "    t+=1"
   ]
  },
  {
   "cell_type": "code",
   "execution_count": null,
   "metadata": {},
   "outputs": [],
   "source": [
    "generations"
   ]
  },
  {
   "cell_type": "code",
   "execution_count": null,
   "metadata": {},
   "outputs": [],
   "source": [
    "from utils import to_var, idx2word, interpolate\n",
    "\n",
    "with open('data'+'/ptb.vocab.json', 'r') as file:\n",
    "    vocab = json.load(file)\n",
    "\n",
    "w2i, i2w = vocab['w2i'], vocab['i2w']"
   ]
  },
  {
   "cell_type": "code",
   "execution_count": null,
   "metadata": {},
   "outputs": [],
   "source": [
    "samples = generations.cpu().numpy()\n",
    "\n",
    "sent_str = [str()]*len(samples)\n",
    "\n",
    "for i, sent in enumerate(samples):\n",
    "    for word_id in sent:\n",
    "        if word_id == w2i['<pad>']: \n",
    "            break\n",
    "        sent_str[i] += i2w[str(word_id)] + \" \"\n",
    "    sent_str[i] = sent_str[i].strip()"
   ]
  },
  {
   "cell_type": "code",
   "execution_count": null,
   "metadata": {},
   "outputs": [],
   "source": [
    "print(''.join(sent_str))"
   ]
  },
  {
   "cell_type": "code",
   "execution_count": null,
   "metadata": {},
   "outputs": [],
   "source": []
  }
 ],
 "metadata": {
  "kernelspec": {
   "display_name": "Python [conda root]",
   "language": "python",
   "name": "conda-root-py"
  },
  "language_info": {
   "codemirror_mode": {
    "name": "ipython",
    "version": 3
   },
   "file_extension": ".py",
   "mimetype": "text/x-python",
   "name": "python",
   "nbconvert_exporter": "python",
   "pygments_lexer": "ipython3",
   "version": "3.6.5"
  }
 },
 "nbformat": 4,
 "nbformat_minor": 2
}
