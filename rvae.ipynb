{
 "cells": [
  {
   "cell_type": "code",
   "execution_count": 240,
   "metadata": {},
   "outputs": [],
   "source": [
    "import os\n",
    "import json\n",
    "import time\n",
    "import torch\n",
    "import argparse\n",
    "import numpy as np\n",
    "from multiprocessing import cpu_count\n",
    "from torch.utils.data import DataLoader\n",
    "from collections import OrderedDict, defaultdict\n",
    "import torch.nn as nn\n",
    "from torch.autograd import Variable\n",
    "import torch.nn.utils.rnn as rnn_utils\n",
    "\n",
    "from ptb import PTB\n",
    "from utils import to_var, idx2word, expierment_name\n",
    "from model import SentenceVAE"
   ]
  },
  {
   "cell_type": "code",
   "execution_count": 241,
   "metadata": {},
   "outputs": [],
   "source": [
    "ts = time.strftime('%Y-%b-%d-%H-%M-%S', time.gmtime())"
   ]
  },
  {
   "cell_type": "code",
   "execution_count": 242,
   "metadata": {},
   "outputs": [],
   "source": [
    "save_model_path = os.path.join('won', ts)\n",
    "os.makedirs('.\\\\'+save_model_path)"
   ]
  },
  {
   "cell_type": "code",
   "execution_count": 243,
   "metadata": {},
   "outputs": [],
   "source": [
    "datasets = OrderedDict()"
   ]
  },
  {
   "cell_type": "code",
   "execution_count": 244,
   "metadata": {},
   "outputs": [],
   "source": [
    "splits = ['train', 'valid'] + (['test'] if False else [])"
   ]
  },
  {
   "cell_type": "code",
   "execution_count": 245,
   "metadata": {},
   "outputs": [
    {
     "data": {
      "text/plain": [
       "['train', 'valid']"
      ]
     },
     "execution_count": 245,
     "metadata": {},
     "output_type": "execute_result"
    }
   ],
   "source": [
    "splits"
   ]
  },
  {
   "cell_type": "code",
   "execution_count": 246,
   "metadata": {},
   "outputs": [],
   "source": [
    "for split in splits:\n",
    "    datasets[split] = PTB(\n",
    "        data_dir='data',\n",
    "        split=split,\n",
    "        create_data=False,\n",
    "        max_sequence_length=60,\n",
    "        min_occ=1\n",
    "    )"
   ]
  },
  {
   "cell_type": "code",
   "execution_count": 247,
   "metadata": {},
   "outputs": [],
   "source": [
    "vocab_size = datasets['train'].vocab_size"
   ]
  },
  {
   "cell_type": "code",
   "execution_count": 248,
   "metadata": {},
   "outputs": [],
   "source": [
    "sos_idx=datasets['train'].sos_idx"
   ]
  },
  {
   "cell_type": "code",
   "execution_count": 249,
   "metadata": {},
   "outputs": [],
   "source": [
    "eos_idx=datasets['train'].eos_idx"
   ]
  },
  {
   "cell_type": "code",
   "execution_count": 250,
   "metadata": {},
   "outputs": [],
   "source": [
    "pad_idx=datasets['train'].pad_idx"
   ]
  },
  {
   "cell_type": "code",
   "execution_count": 308,
   "metadata": {},
   "outputs": [],
   "source": [
    "max_sequence_length = 60\n",
    "embedding_size = 300\n",
    "hidden_size = 256\n",
    "word_dropout = 0.5\n",
    "latent_size = 16\n",
    "num_layers = 1\n",
    "bidirectional = False\n",
    "batch_size_fit = 32\n",
    "rnn_type = 'gru'\n",
    "learning_rate = 0.001\n",
    "k = 0.0005\n",
    "x0 = 3500"
   ]
  },
  {
   "cell_type": "code",
   "execution_count": 309,
   "metadata": {},
   "outputs": [],
   "source": [
    "class RVAE(nn.Module):\n",
    "    def __init__(self,vocab_size, embedding_size, max_sequence_length, hidden_size, word_dropout, latent_size,\n",
    "                sos_idx, eos_idx, pad_idx, rnn_type='rnn' , num_layers=1, bidirectional=True):\n",
    "        \n",
    "        super().__init__()\n",
    "        \n",
    "        self.max_sequence_length = max_sequence_length\n",
    "        self.sos_idx = sos_idx\n",
    "        self.eos_idx = eos_idx\n",
    "        self.pad_idx = pad_idx\n",
    "        \n",
    "        self.latent_size = latent_size\n",
    "        self.rnn_type = rnn_type\n",
    "        self.bidirectional = bidirectional\n",
    "        self.num_layers = num_layers\n",
    "        self.hidden_size = hidden_size\n",
    "        \n",
    "        \n",
    "        #self.outputs2vocab = nn.Linear(hidden_size * (2 if bidirectional else 1), vocab_size)\n",
    "        self.encoder = Encoder(vocab_size = vocab_size,embedding_size = embedding_size, hidden_size = hidden_size, num_layers = num_layers, bidirectional = bidirectional,latent_size = latent_size,rnn_type = rnn_type).cuda()\n",
    "        self.decoder = Decoder(vocab_size = vocab_size,embedding_size = embedding_size, hidden_size = hidden_size, num_layers = num_layers, bidirectional = bidirectional,latent_size = latent_size,rnn_type = rnn_type, word_dropout=word_dropout).cuda()\n",
    "    \n",
    "    def forward(self,x,length):\n",
    "        \n",
    "        mu,logvar,reparam = self.encoder(Variable(x),length)\n",
    "        logp,outputs  = self.decoder(Variable(x),reparam)\n",
    "        \n",
    "        \n",
    "        return logp, mu, logvar, reparam, outputs"
   ]
  },
  {
   "cell_type": "code",
   "execution_count": 310,
   "metadata": {},
   "outputs": [],
   "source": [
    "class Encoder(nn.Module):\n",
    "    def __init__(self,vocab_size,embedding_size, hidden_size, latent_size, bidirectional=True, num_layers = 1,rnn_type='rnn'):\n",
    "        super(Encoder,self).__init__()\n",
    "        \n",
    "        self.vocab_size = vocab_size\n",
    "        self.embedding_size = embedding_size\n",
    "        self.latent_size = latent_size\n",
    "        self.rnn_type = rnn_type\n",
    "        self.bidirectional = bidirectional\n",
    "        self.num_layers = num_layers\n",
    "        self.hidden_size = hidden_size\n",
    "        \n",
    "        if self.rnn_type == 'rnn':\n",
    "            rnn = nn.RNN\n",
    "        elif self.rnn_type == 'gru':\n",
    "            rnn = nn.GRU\n",
    "        elif self.rnn_type =='lstm':\n",
    "            rnn = nn.LSTM\n",
    "        else:\n",
    "            raise ValueError()\n",
    "            \n",
    "        self.embedding = nn.Embedding(vocab_size,embedding_size)\n",
    "        self.encoder = rnn(self.embedding_size, self.hidden_size, num_layers = self.num_layers, bidirectional = self.bidirectional, batch_first = True)\n",
    "        \n",
    "        self.hidden_factor = (2 if self.bidirectional else 1) * self.num_layers\n",
    "        \n",
    "        self.hidden2mean = nn.Linear(self.hidden_size* self.hidden_factor, self.latent_size)\n",
    "        self.hidden2logv = nn.Linear(self.hidden_size* self.hidden_factor, self.latent_size)\n",
    "                        \n",
    "    \n",
    "    def reparametrize(self, mu, logvar):\n",
    "        std = logvar.mul(0.5).exp_()\n",
    "        \n",
    "        eps = torch.FloatTensor(std.size()).normal_()\n",
    "        #print(eps)\n",
    "        eps = Variable(eps).cuda()\n",
    "        \n",
    "        return eps.mul(std).add_(mu)\n",
    "    \n",
    "    def forward(self,x,length):\n",
    "        batch_size = x.size(0)\n",
    "        sorted_lengths, sorted_idx = torch.sort(length, descending=True)\n",
    "        input_sequence = x[sorted_idx.cuda()]\n",
    "        #print(input_sequence)\n",
    "        _,hidden = self.encoder(self.embedding(input_sequence))\n",
    "        if self.bidirectional or self.num_layers > 1:\n",
    "            # flatten hidden state\n",
    "            hidden = hidden.view(batch_size, self.hidden_size*self.hidden_factor)\n",
    "        else:\n",
    "            hidden = hidden.squeeze()\n",
    "\n",
    "        mu = self.hidden2mean(hidden)\n",
    "        \n",
    "        logvar = self.hidden2logv(hidden)\n",
    "        std = torch.exp(0.5 * logvar)\n",
    "        #reparam = self.reparametrize(mu,logvar)\n",
    "        z = Variable(torch.randn([batch_size, self.latent_size])).cuda()\n",
    "        z = z * std + mu\n",
    "        \n",
    "        \n",
    "        return mu,logvar,z#,reparam\n",
    "        \n"
   ]
  },
  {
   "cell_type": "code",
   "execution_count": 311,
   "metadata": {},
   "outputs": [],
   "source": [
    "class Decoder(nn.Module):\n",
    "    def __init__(self,vocab_size,embedding_size, hidden_size, latent_size, bidirectional=True, num_layers = 1,rnn_type='rnn',word_dropout = 0.5):\n",
    "        super(Decoder,self).__init__()\n",
    "        \n",
    "        self.vocab_size = vocab_size\n",
    "        self.embedding_size = embedding_size\n",
    "        self.latent_size = latent_size\n",
    "        self.rnn_type = rnn_type\n",
    "        self.bidirectional = bidirectional\n",
    "        self.num_layers = num_layers\n",
    "        self.hidden_size = hidden_size\n",
    "        \n",
    "        if self.rnn_type == 'rnn':\n",
    "            rnn = nn.RNN\n",
    "        elif self.rnn_type == 'gru':\n",
    "            rnn = nn.GRU\n",
    "        elif self.rnn_type =='lstm':\n",
    "            rnn = nn.LSTM\n",
    "        else:\n",
    "            raise ValueError()\n",
    "            \n",
    "        self.hidden_factor = (2 if self.bidirectional else 1) * self.num_layers            \n",
    "        self.latent2hidden = nn.Linear(latent_size, hidden_size * self.hidden_factor)\n",
    "        \n",
    "        self.embedding = nn.Embedding(vocab_size,embedding_size)\n",
    "        self.word_dropout = nn.Dropout(p=word_dropout)\n",
    "        \n",
    "        self.decoder = rnn(embedding_size, hidden_size, num_layers=num_layers, bidirectional=self.bidirectional, batch_first=True)\n",
    "        self.outputs2vocab = nn.Linear(hidden_size * (2 if bidirectional else 1), vocab_size)\n",
    "        \n",
    "    def forward(self,x,z):\n",
    "        \n",
    "        batch_size = x.size(0)\n",
    "        sorted_lengths, sorted_idx = torch.sort(length, descending=True)\n",
    "        input_sequence = x[sorted_idx.cuda()]\n",
    "        \n",
    "        hidden = self.latent2hidden(z)\n",
    "        if self.bidirectional or self.num_layers > 1:\n",
    "            # unflatten hidden state\n",
    "            hidden = hidden.view(self.hidden_factor, batch_size, self.hidden_size)\n",
    "        else:\n",
    "            hidden = hidden.unsqueeze(0)\n",
    "            \n",
    "        outputs,_ = self.decoder(self.embedding(input_sequence),hidden)\n",
    "        \n",
    "        logp =nn.functional.log_softmax(self.outputs2vocab(outputs))\n",
    "        \n",
    "        return logp,outputs\n",
    "        \n"
   ]
  },
  {
   "cell_type": "code",
   "execution_count": 312,
   "metadata": {},
   "outputs": [],
   "source": [
    "class RVAE_ETOE(nn.Module):\n",
    "    def __init__(self,vocab_size, embedding_size, max_sequence_length, hidden_size, word_dropout, latent_size, sos_idx, eos_idx, pad_idx, rnn_type='rnn' , num_layers=1, bidirectional=False):\n",
    "        super().__init__()\n",
    "        self.max_sequence_length = max_sequence_length\n",
    "        self.sos_idx = sos_idx\n",
    "        self.eos_idx = eos_idx\n",
    "        self.pad_idx = pad_idx\n",
    "\n",
    "        self.latent_size = latent_size\n",
    "\n",
    "        self.rnn_type = rnn_type\n",
    "        self.bidirectional = bidirectional\n",
    "        self.num_layers = num_layers\n",
    "        self.hidden_size = hidden_size\n",
    "\n",
    "        self.embedding = nn.Embedding(vocab_size, embedding_size)\n",
    "        self.word_dropout = nn.Dropout(p=word_dropout)\n",
    "\n",
    "        if rnn_type == 'rnn':\n",
    "            rnn = nn.RNN\n",
    "        elif rnn_type == 'gru':\n",
    "            rnn = nn.GRU\n",
    "        # elif rnn_type == 'lstm':\n",
    "        #     rnn = nn.LSTM\n",
    "        else:\n",
    "            raise ValueError()\n",
    "            \n",
    "        self.encoder_rnn = rnn(embedding_size, hidden_size, num_layers=num_layers, bidirectional=self.bidirectional, batch_first=True)\n",
    "        self.decoder_rnn = rnn(embedding_size, hidden_size, num_layers=num_layers, bidirectional=self.bidirectional, batch_first=True)\n",
    "        \n",
    "        self.hidden_factor = (2 if bidirectional else 1) * num_layers\n",
    "\n",
    "        self.hidden2mean = nn.Linear(hidden_size * self.hidden_factor, latent_size)\n",
    "        self.hidden2logv = nn.Linear(hidden_size * self.hidden_factor, latent_size)\n",
    "        self.latent2hidden = nn.Linear(latent_size, hidden_size * self.hidden_factor)\n",
    "        self.outputs2vocab = nn.Linear(hidden_size * (2 if bidirectional else 1), vocab_size)\n",
    "        \n",
    "        \n",
    "    def forward(self, input_sequence, length):\n",
    "        input_sequence = Variable(input_sequence).cuda()\n",
    "        batch_size = input_sequence.size(0)\n",
    "        sorted_lengths, sorted_idx = torch.sort(length, descending=True)\n",
    "        input_sequence = input_sequence[sorted_idx.cuda()]\n",
    "        input_embedding = self.embedding(input_sequence)\n",
    "        \n",
    "        packed_input = rnn_utils.pack_padded_sequence(input_embedding, sorted_lengths.tolist(), batch_first=True)\n",
    "        _,hidden = self.encoder_rnn(packed_input)\n",
    "        #_,hidden = self.encoder_rnn(input_sequence)\n",
    "\n",
    "        if self.bidirectional or self.num_layers > 1:\n",
    "            # flatten hidden state\n",
    "            hidden = hidden.view(batch_size, self.hidden_size*self.hidden_factor)\n",
    "        else:\n",
    "            hidden = hidden.squeeze()\n",
    "\n",
    "        mu = self.hidden2mean(hidden)\n",
    "\n",
    "        logvar = self.hidden2logv(hidden)\n",
    "        std = torch.exp(0.5 * logvar)\n",
    "        #reparam = self.reparametrize(mu,logvar)\n",
    "        z = Variable(torch.randn([batch_size, self.latent_size])).cuda()\n",
    "        z = z * std + mu\n",
    "\n",
    "        hidden = self.latent2hidden(z)\n",
    "        if self.bidirectional or self.num_layers > 1:\n",
    "            # unflatten hidden state\n",
    "            hidden = hidden.view(self.hidden_factor, batch_size, self.hidden_size)\n",
    "        else:\n",
    "            hidden = hidden.unsqueeze(0)\n",
    "            \n",
    "        input_embedding = self.word_dropout(input_embedding)\n",
    "        packed_input = rnn_utils.pack_padded_sequence(input_embedding, sorted_lengths.tolist(), batch_first=True)\n",
    "        outputs,_ = self.decoder_rnn(packed_input,hidden)\n",
    "        \n",
    "        padded_outputs = rnn_utils.pad_packed_sequence(outputs, batch_first=True)[0]\n",
    "        padded_outputs = padded_outputs.contiguous()\n",
    "        _,reversed_idx = torch.sort(sorted_idx)\n",
    "        padded_outputs = padded_outputs[reversed_idx.cuda()]\n",
    "        b,s,_ = padded_outputs.size()\n",
    "        \n",
    "\n",
    "\n",
    "        logp =nn.functional.log_softmax(self.outputs2vocab(padded_outputs.view(-1, padded_outputs.size(2))), dim=-1)\n",
    "        logp = logp.view(b, s, self.embedding.num_embeddings)\n",
    "\n",
    "        return logp, mu, logvar, z, padded_outputs.view(-1, padded_outputs.size(2))\n",
    "\n",
    "    def inference(self, n=4, z=None):\n",
    "\n",
    "        if z is None:\n",
    "            batch_size = n\n",
    "            z = to_var(torch.randn([batch_size, self.latent_size]))\n",
    "            #print(z)\n",
    "        else:\n",
    "            batch_size = z.size(0)\n",
    "\n",
    "        hidden = self.latent2hidden(z)\n",
    "\n",
    "        if self.bidirectional or self.num_layers > 1:\n",
    "            # unflatten hidden state\n",
    "            hidden = hidden.view(self.hidden_factor, batch_size, self.hidden_size)\n",
    "\n",
    "        hidden = hidden.unsqueeze(0)\n",
    "\n",
    "        # required for dynamic stopping of sentence generation\n",
    "        sequence_idx = torch.arange(0, batch_size, out=torch.cuda.FloatTensor()).long() # all idx of batch\n",
    "        sequence_running = torch.arange(0, batch_size, out=torch.cuda.FloatTensor ()).long() # all idx of batch which are still generating\n",
    "        sequence_mask = torch.ones(batch_size, out=torch.cuda.FloatTensor ()).byte()\n",
    "\n",
    "        running_seqs = torch.arange(0, batch_size, out=torch.cuda.FloatTensor ()).long() # idx of still generating sequences with respect to current loop\n",
    "\n",
    "        generations = torch.cuda.FloatTensor(batch_size, self.max_sequence_length).fill_(self.pad_idx).long()\n",
    "\n",
    "        t=0\n",
    "        while(t<self.max_sequence_length and len(running_seqs)>0):\n",
    "\n",
    "            if t == 0:\n",
    "                input_sequence = to_var(torch.Tensor(batch_size).fill_(self.sos_idx).long())\n",
    "\n",
    "            input_sequence = input_sequence.unsqueeze(1)\n",
    "\n",
    "            input_embedding = self.embedding(input_sequence)\n",
    "\n",
    "            output, hidden = self.decoder_rnn(input_embedding, hidden)\n",
    "\n",
    "            logits = self.outputs2vocab(output)\n",
    "\n",
    "            input_sequence = self._sample(logits)\n",
    "\n",
    "            # save next input\n",
    "            generations = self._save_sample(generations, input_sequence, sequence_running, t)\n",
    "\n",
    "            # update gloabl running sequence\n",
    "            sequence_mask[sequence_running] = (input_sequence != self.eos_idx).data\n",
    "            sequence_running = sequence_idx.masked_select(sequence_mask)\n",
    "\n",
    "            # update local running sequences\n",
    "            running_mask = (input_sequence != self.eos_idx).data\n",
    "            running_seqs = running_seqs.masked_select(running_mask)\n",
    "\n",
    "            # prune input and hidden state according to local update\n",
    "            if len(running_seqs) > 0:\n",
    "                input_sequence = input_sequence[running_seqs]\n",
    "                hidden = hidden[:, running_seqs]\n",
    "\n",
    "                running_seqs = torch.arange(0, len(running_seqs), out=torch.cuda.FloatTensor ()).long()\n",
    "\n",
    "            t += 1\n",
    "        print(generations)\n",
    "        return generations, z\n",
    "      \n",
    "            \n",
    "    def _sample(self, dist, mode='greedy'):\n",
    "\n",
    "        if mode == 'greedy':\n",
    "            _, sample = torch.topk(dist, 1, dim=-1)\n",
    "        sample = sample.squeeze()\n",
    "\n",
    "        return sample\n",
    "\n",
    "    def _save_sample(self, save_to, sample, running_seqs, t):\n",
    "        # select only still running\n",
    "        running_latest = save_to[running_seqs]\n",
    "        # update token at position t\n",
    "        running_latest[:,t] = sample.data\n",
    "        # save back\n",
    "        save_to[running_seqs] = running_latest\n",
    "\n",
    "        return save_to        \n",
    "        "
   ]
  },
  {
   "cell_type": "code",
   "execution_count": 313,
   "metadata": {},
   "outputs": [],
   "source": [
    "rvae=RVAE(vocab_size, embedding_size, max_sequence_length, hidden_size, word_dropout, latent_size,sos_idx, eos_idx, pad_idx , num_layers=num_layers ,rnn_type='gru')"
   ]
  },
  {
   "cell_type": "code",
   "execution_count": 314,
   "metadata": {},
   "outputs": [],
   "source": [
    "rvae=RVAE_ETOE(vocab_size, embedding_size, max_sequence_length, hidden_size, word_dropout, latent_size,sos_idx, eos_idx, pad_idx , num_layers=num_layers ,rnn_type='gru').cuda()"
   ]
  },
  {
   "cell_type": "code",
   "execution_count": 315,
   "metadata": {},
   "outputs": [],
   "source": [
    "def kl_anneal_function(anneal_function, step, k, x0):\n",
    "    if anneal_function == 'logistic':\n",
    "        return float(1/(1+np.exp(-k*(step-x0))))\n",
    "    elif anneal_function == 'linear':\n",
    "        return min(1, step/x0)\n",
    "\n"
   ]
  },
  {
   "cell_type": "code",
   "execution_count": 316,
   "metadata": {},
   "outputs": [],
   "source": [
    "NLL = torch.nn.NLLLoss(size_average=False, ignore_index=datasets['train'].pad_idx)"
   ]
  },
  {
   "cell_type": "code",
   "execution_count": 317,
   "metadata": {},
   "outputs": [],
   "source": [
    "cross_entropy = torch.nn.CrossEntropyLoss(size_average=False, ignore_index=datasets['train'].pad_idx)"
   ]
  },
  {
   "cell_type": "code",
   "execution_count": 318,
   "metadata": {},
   "outputs": [],
   "source": [
    "def loss_fn(logp, target, length, mean, logv, anneal_function, step, k, x0):\n",
    "\n",
    "    # cut-off unnecessary padding from target, and flatten\n",
    "    target = target[:, :torch.max(batch['length'])].contiguous().view(-1)\n",
    "    logp = logp.view(-1, logp.size(2))\n",
    "\n",
    "    # Negative Log Likelihood\n",
    "    NLL_loss = cross_entropy(logp, target)\n",
    "\n",
    "    # KL Divergence\n",
    "    KL_loss = -0.5 * torch.sum(1 + logv - mean.pow(2) - logv.exp())\n",
    "    KL_weight = kl_anneal_function(anneal_function, step, k, x0)\n",
    "\n",
    "    return NLL_loss, KL_loss, KL_weight"
   ]
  },
  {
   "cell_type": "code",
   "execution_count": 319,
   "metadata": {},
   "outputs": [],
   "source": [
    "def loss_fn(logp, target, length, mean, logv, anneal_function, step, k, x0):\n",
    "\n",
    "    # cut-off unnecessary padding from target, and flatten\n",
    "    target = target[:, :torch.max(batch['length'])].contiguous().view(-1)\n",
    "    logp = logp.view(-1, logp.size(2))\n",
    "\n",
    "    # Negative Log Likelihood\n",
    "    NLL_loss = NLL(logp, target)\n",
    "\n",
    "    # KL Divergence\n",
    "    KL_loss = -0.5 * torch.sum(1 + logv - mean.pow(2) - logv.exp())\n",
    "    KL_weight = kl_anneal_function(anneal_function, step, k, x0)\n",
    "\n",
    "    return NLL_loss, KL_loss, KL_weight"
   ]
  },
  {
   "cell_type": "code",
   "execution_count": 320,
   "metadata": {},
   "outputs": [],
   "source": [
    "optimizer = torch.optim.Adam(rvae.parameters(), lr=learning_rate)"
   ]
  },
  {
   "cell_type": "code",
   "execution_count": 321,
   "metadata": {},
   "outputs": [
    {
     "data": {
      "text/plain": [
       "RVAE_ETOE(\n",
       "  (embedding): Embedding(9877, 300)\n",
       "  (word_dropout): Dropout(p=0.5)\n",
       "  (encoder_rnn): GRU(300, 256, batch_first=True)\n",
       "  (decoder_rnn): GRU(300, 256, batch_first=True)\n",
       "  (hidden2mean): Linear(in_features=256, out_features=16, bias=True)\n",
       "  (hidden2logv): Linear(in_features=256, out_features=16, bias=True)\n",
       "  (latent2hidden): Linear(in_features=16, out_features=256, bias=True)\n",
       "  (outputs2vocab): Linear(in_features=256, out_features=9877, bias=True)\n",
       ")"
      ]
     },
     "execution_count": 321,
     "metadata": {},
     "output_type": "execute_result"
    }
   ],
   "source": [
    "rvae"
   ]
  },
  {
   "cell_type": "code",
   "execution_count": 322,
   "metadata": {},
   "outputs": [],
   "source": [
    "epochs = 10"
   ]
  },
  {
   "cell_type": "code",
   "execution_count": null,
   "metadata": {
    "scrolled": true
   },
   "outputs": [
    {
     "name": "stdout",
     "output_type": "stream",
     "text": [
      "**************backpropagation**********\n",
      "TRAIN Batch 0000/1314, Loss  203.7806, NLL-Loss  203.7206, KL-Loss    0.4053, KL-Weight  0.148\n",
      "**************backpropagation**********\n",
      "**************backpropagation**********\n",
      "TRAIN Batch 0100/1314, Loss  160.0858, NLL-Loss  159.9843, KL-Loss    0.6571, KL-Weight  0.154\n",
      "**************backpropagation**********\n"
     ]
    }
   ],
   "source": [
    "step = 0\n",
    "avg_losses = []\n",
    "losses = []\n",
    "NLL_losses = []\n",
    "KL_losses = []\n",
    "KL_weights = []\n",
    "\n",
    "for epoch in range(epochs):\n",
    "    for split in splits:\n",
    "        data_loader = DataLoader(\n",
    "                    dataset=datasets[split],\n",
    "                    batch_size=batch_size_fit,\n",
    "                    shuffle=split=='train',\n",
    "                    num_workers=cpu_count(),\n",
    "                    pin_memory=torch.cuda.is_available()\n",
    "                )\n",
    "\n",
    "        if split == 'train':\n",
    "            rvae.train()\n",
    "        else:\n",
    "            print('********************valid**************')\n",
    "            rvae.eval()\n",
    "            \n",
    "        for iteration, batch in enumerate(data_loader):\n",
    "            batch_size = batch['input'].size(0)\n",
    "\n",
    "            x = batch['input'].type(torch.cuda.LongTensor)\n",
    "            length = batch['length']\n",
    "            \n",
    "            logp, mean, logv, z, outputs=rvae(x,length)\n",
    "            \n",
    "            NLL_loss, KL_loss, KL_weight = loss_fn(logp, Variable(batch['target'], volatile=False).type(torch.cuda.LongTensor),batch['length'], mean, logv, 'logistic', step, k, x0)\n",
    "            \n",
    "            loss = (NLL_loss + KL_loss*KL_weight)/batch_size#(NLL_loss/batch_size)\n",
    "            \n",
    "            \n",
    "            losses.append(float(loss.cpu().data))\n",
    "            NLL_losses.append(NLL_loss.data[0]/batch_size)\n",
    "            KL_losses.append(KL_loss.data[0]/batch_size)\n",
    "            KL_weights.append(KL_weight)\n",
    "            \n",
    "            if split == 'train':\n",
    "                if iteration % 50 == 0:\n",
    "                    print('**************backpropagation**********')\n",
    "                \n",
    "                optimizer.zero_grad()\n",
    "                loss.backward()\n",
    "                optimizer.step()\n",
    "                step += 1\n",
    "\n",
    "            if iteration % 100 == 0 or iteration+1 == len(data_loader):\n",
    "                print(\"%s Batch %04d/%i, Loss %9.4f, NLL-Loss %9.4f, KL-Loss %9.4f, KL-Weight %6.3f\"\n",
    "            %(split.upper(), iteration, len(data_loader)-1, loss.data[0], NLL_loss.data[0]/batch_size, KL_loss.data[0]/batch_size, KL_weight))\n",
    "                np.savez(L=losses,file='loss.npz')\n",
    "                np.savez(L=NLL_losses,file='NLL_losses.npz')\n",
    "                np.savez(L=KL_losses,file='KL_losses.npz') \n",
    "                np.savez(L=KL_weights,file='KL_weights.npz')\n",
    "                \n",
    "         # save checkpoint\n",
    "        if split == 'train':\n",
    "            checkpoint_path = os.path.join(save_model_path, \"E%i.pytorch\"%(epoch))\n",
    "            torch.save(rvae, checkpoint_path)\n",
    "            print(\"Model saved at %s\"%checkpoint_path)\n",
    "        print(\"%s Epoch %02d/%i, Mean ELBO %9.4f\"%(split.upper(), epoch, epochs, np.mean(np.array(losses))))\n",
    "        avg_losses.append(np.mean(np.array(losses)))\n",
    "        np.savez(L=avg_losses,file='avg_losses.npz')"
   ]
  },
  {
   "cell_type": "code",
   "execution_count": 305,
   "metadata": {},
   "outputs": [
    {
     "name": "stdout",
     "output_type": "stream",
     "text": [
      "\n",
      "\n",
      "Columns 0 to 12 \n",
      "   87  1140    10   168    77    57   451    43   326    13  1188    21   394\n",
      "    5     5     5     3     0     0     0     0     0     0     0     0     0\n",
      "   10     5     5     5     5     5     5     5     5    43     5     5     3\n",
      "    5     5    21    10   149   544    21    10   149   544    21     5  3355\n",
      "   10     5     5     5     5     5     5     5     5     5     3     0     0\n",
      "   18    17  1729    77    10   168    33    34   291    21    10   168    98\n",
      "   10     5    21    10     5     5     5    19    13     5    43     5    10\n",
      "   10     5     5     5     5     5     5     5     5     5   209  5975    43\n",
      "  514   796   210    17  5933  1600    21   394     5   448    21   486     3\n",
      "    5     5     5     5     5     5     5     5     5     5     5     5     5\n",
      "\n",
      "Columns 13 to 25 \n",
      "    5   448   447     5   907    13   446     3     0     0     0     0     0\n",
      "    0     0     0     0     0     0     0     0     0     0     0     0     0\n",
      "    0     0     0     0     0     0     0     0     0     0     0     0     0\n",
      "   17    13    17   238    17   520    21  3356  3357     3     0     0     0\n",
      "    0     0     0     0     0     0     0     0     0     0     0     0     0\n",
      "   99   563    43    10   168    98    99   563     3     0     0     0     0\n",
      "    5    21    10     5    21    10     5    21    10     5    21    10     5\n",
      "   10  3356  3357  6706   284     3     0     0     0     0     0     0     0\n",
      "    0     0     0     0     0     0     0     0     0     0     0     0     0\n",
      "    5     5     5     5     5     5     5     5     5     5     5     5     5\n",
      "\n",
      "Columns 26 to 38 \n",
      "    0     0     0     0     0     0     0     0     0     0     0     0     0\n",
      "    0     0     0     0     0     0     0     0     0     0     0     0     0\n",
      "    0     0     0     0     0     0     0     0     0     0     0     0     0\n",
      "    0     0     0     0     0     0     0     0     0     0     0     0     0\n",
      "    0     0     0     0     0     0     0     0     0     0     0     0     0\n",
      "    0     0     0     0     0     0     0     0     0     0     0     0     0\n",
      "   21    10     5    21    10     5    21    10     5    21    10     5    21\n",
      "    0     0     0     0     0     0     0     0     0     0     0     0     0\n",
      "    0     0     0     0     0     0     0     0     0     0     0     0     0\n",
      "    5     5     5     5     5     5     5     5     5     5     5     5     5\n",
      "\n",
      "Columns 39 to 51 \n",
      "    0     0     0     0     0     0     0     0     0     0     0     0     0\n",
      "    0     0     0     0     0     0     0     0     0     0     0     0     0\n",
      "    0     0     0     0     0     0     0     0     0     0     0     0     0\n",
      "    0     0     0     0     0     0     0     0     0     0     0     0     0\n",
      "    0     0     0     0     0     0     0     0     0     0     0     0     0\n",
      "    0     0     0     0     0     0     0     0     0     0     0     0     0\n",
      "   10     5    21    10     5    21    10     5    21    10     5    21    10\n",
      "    0     0     0     0     0     0     0     0     0     0     0     0     0\n",
      "    0     0     0     0     0     0     0     0     0     0     0     0     0\n",
      "    5     5     5     5     5     5     5     5     5     5     5     5     5\n",
      "\n",
      "Columns 52 to 59 \n",
      "    0     0     0     0     0     0     0     0\n",
      "    0     0     0     0     0     0     0     0\n",
      "    0     0     0     0     0     0     0     0\n",
      "    0     0     0     0     0     0     0     0\n",
      "    0     0     0     0     0     0     0     0\n",
      "    0     0     0     0     0     0     0     0\n",
      "    5    21    10     5     3     0     0     0\n",
      "    0     0     0     0     0     0     0     0\n",
      "    0     0     0     0     0     0     0     0\n",
      "    5     5     5     5     5     5     5     5\n",
      "[torch.cuda.LongTensor of size 10x60 (GPU 0)]\n",
      "\n"
     ]
    }
   ],
   "source": [
    "samples, z = rvae.inference(n=10)"
   ]
  },
  {
   "cell_type": "code",
   "execution_count": 306,
   "metadata": {},
   "outputs": [],
   "source": [
    "from utils import to_var, idx2word, interpolate\n",
    "\n",
    "with open('data'+'/ptb.vocab.json', 'r') as file:\n",
    "    vocab = json.load(file)\n",
    "\n",
    "w2i, i2w = vocab['w2i'], vocab['i2w']\n",
    "sent_str = [str()]*len(samples)\n",
    "\n",
    "for i, sent in enumerate(samples):\n",
    "    for word_id in sent:\n",
    "        if word_id == w2i['<pad>']: \n",
    "            break\n",
    "        sent_str[i] += i2w[str(word_id)] + \" \"\n",
    "    sent_str[i] = sent_str[i]"
   ]
  },
  {
   "cell_type": "code",
   "execution_count": 307,
   "metadata": {},
   "outputs": [
    {
     "name": "stdout",
     "output_type": "stream",
     "text": [
      "in addition the company said it expects to report a loss of $ n million or n cents a share <eos> \n",
      "n n n <eos> \n",
      "the n n n n n n n n to n n <eos> \n",
      "n n of the national association of the national association of n calif . a . t . maker of san francisco <eos> \n",
      "the n n n n n n n n n <eos> \n",
      "mr . smith said the company was named president of the company ' s decision to the company ' s decision <eos> \n",
      "the n of the n n n is a n to n the n of the n of the n of the n of the n of the n of the n of the n of the n of the n of the n of the n of the n of the n of the n <eos> \n",
      "the n n n n n n n n n & drew to the san francisco bay area <eos> \n",
      "general electric co . shelf offering of $ n million of debt <eos> \n",
      "n n n n n n n n n n n n n n n n n n n n n n n n n n n n n n n n n n n n n n n n n n n n n n n n n n n n n n n n n n n n \n"
     ]
    }
   ],
   "source": [
    "for i in sent_str:\n",
    "    print(i)"
   ]
  },
  {
   "cell_type": "code",
   "execution_count": 154,
   "metadata": {},
   "outputs": [],
   "source": [
    "z1 = torch.randn([latent_size]).numpy()\n",
    "z2 = torch.randn([latent_size]).numpy()\n",
    "z = to_var(torch.from_numpy(interpolate(start=z1, end=z2, steps=8)).float())"
   ]
  },
  {
   "cell_type": "code",
   "execution_count": 155,
   "metadata": {},
   "outputs": [],
   "source": [
    "samples, _ = rvae.inference(z=z)"
   ]
  },
  {
   "cell_type": "code",
   "execution_count": 156,
   "metadata": {},
   "outputs": [],
   "source": [
    "from utils import to_var, idx2word, interpolate\n",
    "\n",
    "with open('data'+'/ptb.vocab.json', 'r') as file:\n",
    "    vocab = json.load(file)\n",
    "\n",
    "w2i, i2w = vocab['w2i'], vocab['i2w']\n",
    "sent_str = [str()]*len(samples)\n",
    "\n",
    "for i, sent in enumerate(samples):\n",
    "    for word_id in sent:\n",
    "        if word_id == w2i['<pad>']: \n",
    "            break\n",
    "        sent_str[i] += i2w[str(word_id)] + \" \"\n",
    "    sent_str[i] = sent_str[i].strip()"
   ]
  },
  {
   "cell_type": "code",
   "execution_count": 157,
   "metadata": {},
   "outputs": [
    {
     "name": "stdout",
     "output_type": "stream",
     "text": [
      "['the n n n n n n n n n n to n n n to n n n to n n n to n n n to n n n to n n n to n n n to n n n to n n n to n n n to n n n to n n n to', 'the n n n n n n n n n n to n n n to n n n to n n n to n n n to n n n to n n n to n n n to n n n to n n n to n n n to n n n to n n n to', 'the n n n n n n n n n n to n n n to n n n to n n n to n n n to n n n to n n n to n n n to n n n to n n n to n n n to n n n to n n n to', 'the n n n n n n n n n n to n n n to n n n to n n n to n n n to n n n to n n n to n n n to n n n to n n n to n n n to n n n to n n n to', 'the n n n n n n n n n n to n n n to n n n to n n n to n n n to n n n to n n n to n n n to n n n to n n n to n n n to n n n to n n n to', 'the n n n n n n n n n n to n n n to n n n to n n n to n n n to n n n to n n n to n n n to n n n to n n n to n n n to n n n to n n n to', 'the n n n n n n n n n n to n n n to n n n to n n n to n n n to n n n to n n n to n n n to n n n to n n n to n n n to n n n to n n n to', 'the n n n n n n n n n n to n n n to n n n to n n n to n n n to n n n to n n n to n n n to n n n to n n n to n n n to n n n to n n n to', 'the n n n n n n n n n n to n n n to n n n to n n n to n n n to n n n to n n n to n n n to n n n to n n n to n n n to n n n to n n n to', 'the n n n n n n n n n n to n n n to n n n to n n n to n n n to n n n to n n n to n n n to n n n to n n n to n n n to n n n to n n n to']\n"
     ]
    }
   ],
   "source": [
    "print(sent_str)"
   ]
  },
  {
   "cell_type": "code",
   "execution_count": 186,
   "metadata": {},
   "outputs": [
    {
     "name": "stdout",
     "output_type": "stream",
     "text": [
      "\n",
      "--------model restored--------\n",
      "\n"
     ]
    }
   ],
   "source": [
    "try:\n",
    "    rvae = torch.load(checkpoint_path)\n",
    "    print(\"\\n--------model restored--------\\n\")\n",
    "except:\n",
    "    print(\"\\n--------model not restored--------\\n\")\n",
    "    pass"
   ]
  },
  {
   "cell_type": "code",
   "execution_count": null,
   "metadata": {},
   "outputs": [],
   "source": [
    "rvae.cuda()\n",
    "rvae.eval()"
   ]
  },
  {
   "cell_type": "code",
   "execution_count": null,
   "metadata": {},
   "outputs": [],
   "source": [
    "def _save_sample( save_to, sample, running_seqs, t):\n",
    "    # select only still running\n",
    "    running_latest = save_to[running_seqs]\n",
    "    #print(running_latest)\n",
    "    # update token at position t\n",
    "    running_latest[:,t] = sample.data\n",
    "    #print(running_latest[:,t])\n",
    "    # save back\n",
    "    save_to[running_seqs] = running_latest\n",
    "\n",
    "    return save_to"
   ]
  },
  {
   "cell_type": "code",
   "execution_count": null,
   "metadata": {},
   "outputs": [],
   "source": [
    "batch_size = 1"
   ]
  },
  {
   "cell_type": "code",
   "execution_count": null,
   "metadata": {},
   "outputs": [],
   "source": [
    "generations=torch.cuda.FloatTensor(batch_size, max_sequence_length).fill_(pad_idx).long()"
   ]
  },
  {
   "cell_type": "code",
   "execution_count": null,
   "metadata": {},
   "outputs": [],
   "source": [
    "z = Variable(torch.randn([batch_size, latent_size])).cuda()"
   ]
  },
  {
   "cell_type": "code",
   "execution_count": null,
   "metadata": {},
   "outputs": [],
   "source": [
    "z = Variable(torch.cuda.FloatTensor(z)).cuda()"
   ]
  },
  {
   "cell_type": "code",
   "execution_count": null,
   "metadata": {},
   "outputs": [],
   "source": [
    "z"
   ]
  },
  {
   "cell_type": "code",
   "execution_count": null,
   "metadata": {},
   "outputs": [],
   "source": [
    "hidden = rvae.latent2hidden(z)"
   ]
  },
  {
   "cell_type": "code",
   "execution_count": null,
   "metadata": {},
   "outputs": [],
   "source": [
    "hidden = hidden.view(rvae.hidden_factor, batch_size, rvae.hidden_size)"
   ]
  },
  {
   "cell_type": "code",
   "execution_count": null,
   "metadata": {},
   "outputs": [],
   "source": [
    "t = 0\n",
    "\n",
    "while(t<max_sequence_length ):\n",
    "    if t == 0:\n",
    "        input_sequence = Variable(torch.Tensor(batch_size).fill_(sos_idx).long()).cuda()\n",
    "    input_sequence = input_sequence.unsqueeze(1)\n",
    "    input_embedding = rvae.embedding(input_sequence)\n",
    "    output, hidden = rvae.decoder_rnn(input_embedding, hidden)\n",
    "    logits = rvae.outputs2vocab(output)\n",
    "    samples = torch.topk(logits,1,dim=-1)[1].squeeze()\n",
    "    input_sequence = samples.squeeze()\n",
    "    generations[:,t] = input_sequence.data\n",
    "    #if (input_sequence == eos_idx).cpu().data.numpy():\n",
    "    #    break\n",
    "    t+=1"
   ]
  },
  {
   "cell_type": "code",
   "execution_count": null,
   "metadata": {},
   "outputs": [],
   "source": [
    "generations"
   ]
  },
  {
   "cell_type": "code",
   "execution_count": null,
   "metadata": {},
   "outputs": [],
   "source": [
    "from utils import to_var, idx2word, interpolate\n",
    "\n",
    "with open('data'+'/ptb.vocab.json', 'r') as file:\n",
    "    vocab = json.load(file)\n",
    "\n",
    "w2i, i2w = vocab['w2i'], vocab['i2w']"
   ]
  },
  {
   "cell_type": "code",
   "execution_count": 40,
   "metadata": {},
   "outputs": [
    {
     "ename": "NameError",
     "evalue": "name 'generations' is not defined",
     "output_type": "error",
     "traceback": [
      "\u001b[1;31m---------------------------------------------------------------------------\u001b[0m",
      "\u001b[1;31mNameError\u001b[0m                                 Traceback (most recent call last)",
      "\u001b[1;32m<ipython-input-40-a3baec681e76>\u001b[0m in \u001b[0;36m<module>\u001b[1;34m()\u001b[0m\n\u001b[1;32m----> 1\u001b[1;33m \u001b[0msamples\u001b[0m \u001b[1;33m=\u001b[0m \u001b[0mgenerations\u001b[0m\u001b[1;33m.\u001b[0m\u001b[0mcpu\u001b[0m\u001b[1;33m(\u001b[0m\u001b[1;33m)\u001b[0m\u001b[1;33m.\u001b[0m\u001b[0mnumpy\u001b[0m\u001b[1;33m(\u001b[0m\u001b[1;33m)\u001b[0m\u001b[1;33m\u001b[0m\u001b[0m\n\u001b[0m\u001b[0;32m      2\u001b[0m \u001b[1;33m\u001b[0m\u001b[0m\n\u001b[0;32m      3\u001b[0m \u001b[0msent_str\u001b[0m \u001b[1;33m=\u001b[0m \u001b[1;33m[\u001b[0m\u001b[0mstr\u001b[0m\u001b[1;33m(\u001b[0m\u001b[1;33m)\u001b[0m\u001b[1;33m]\u001b[0m\u001b[1;33m*\u001b[0m\u001b[0mlen\u001b[0m\u001b[1;33m(\u001b[0m\u001b[0msamples\u001b[0m\u001b[1;33m)\u001b[0m\u001b[1;33m\u001b[0m\u001b[0m\n\u001b[0;32m      4\u001b[0m \u001b[1;33m\u001b[0m\u001b[0m\n\u001b[0;32m      5\u001b[0m \u001b[1;32mfor\u001b[0m \u001b[0mi\u001b[0m\u001b[1;33m,\u001b[0m \u001b[0msent\u001b[0m \u001b[1;32min\u001b[0m \u001b[0menumerate\u001b[0m\u001b[1;33m(\u001b[0m\u001b[0msamples\u001b[0m\u001b[1;33m)\u001b[0m\u001b[1;33m:\u001b[0m\u001b[1;33m\u001b[0m\u001b[0m\n",
      "\u001b[1;31mNameError\u001b[0m: name 'generations' is not defined"
     ]
    }
   ],
   "source": [
    "samples = generations.cpu().numpy()\n",
    "\n",
    "sent_str = [str()]*len(samples)\n",
    "\n",
    "for i, sent in enumerate(samples):\n",
    "    for word_id in sent:\n",
    "        if word_id == w2i['<pad>']: \n",
    "            break\n",
    "        sent_str[i] += i2w[str(word_id)] + \" \"\n",
    "    sent_str[i] = sent_str[i].strip()"
   ]
  },
  {
   "cell_type": "code",
   "execution_count": null,
   "metadata": {},
   "outputs": [],
   "source": [
    "print(sent_str)"
   ]
  },
  {
   "cell_type": "code",
   "execution_count": null,
   "metadata": {},
   "outputs": [],
   "source": [
    "(1189*841)/(17.5*8.9)"
   ]
  },
  {
   "cell_type": "code",
   "execution_count": null,
   "metadata": {},
   "outputs": [],
   "source": [
    "8000000/1.4"
   ]
  },
  {
   "cell_type": "code",
   "execution_count": null,
   "metadata": {},
   "outputs": [],
   "source": [
    "1189*841"
   ]
  },
  {
   "cell_type": "code",
   "execution_count": null,
   "metadata": {},
   "outputs": [],
   "source": [
    "999949/0.1152"
   ]
  },
  {
   "cell_type": "code",
   "execution_count": null,
   "metadata": {},
   "outputs": [],
   "source": [
    "0.2499936249187166772620562253231*0.2499936249187166772620562253231"
   ]
  },
  {
   "cell_type": "code",
   "execution_count": null,
   "metadata": {},
   "outputs": [],
   "source": [
    "0.2499936249187166772620562253231*2"
   ]
  },
  {
   "cell_type": "code",
   "execution_count": null,
   "metadata": {},
   "outputs": [],
   "source": [
    "0.2499936249187166772620562253231*0.49998724983743337"
   ]
  },
  {
   "cell_type": "code",
   "execution_count": null,
   "metadata": {},
   "outputs": [],
   "source": [
    "x = 0.2499936"
   ]
  },
  {
   "cell_type": "code",
   "execution_count": null,
   "metadata": {},
   "outputs": [],
   "source": [
    "(1189*841)/(x*2*x)"
   ]
  },
  {
   "cell_type": "code",
   "execution_count": null,
   "metadata": {},
   "outputs": [],
   "source": []
  }
 ],
 "metadata": {
  "kernelspec": {
   "display_name": "Python [conda root]",
   "language": "python",
   "name": "conda-root-py"
  },
  "language_info": {
   "codemirror_mode": {
    "name": "ipython",
    "version": 3
   },
   "file_extension": ".py",
   "mimetype": "text/x-python",
   "name": "python",
   "nbconvert_exporter": "python",
   "pygments_lexer": "ipython3",
   "version": "3.6.5"
  }
 },
 "nbformat": 4,
 "nbformat_minor": 2
}
